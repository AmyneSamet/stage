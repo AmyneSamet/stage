{
 "cells": [
  {
   "cell_type": "code",
   "execution_count": 3,
   "metadata": {},
   "outputs": [],
   "source": [
    "import cv2\n",
    "import pytesseract\n",
    "import fitz \n",
    "from PIL import Image\n",
    "from inference_sdk import InferenceHTTPClient\n"
   ]
  },
  {
   "cell_type": "code",
   "execution_count": 4,
   "metadata": {},
   "outputs": [
    {
     "name": "stdout",
     "output_type": "stream",
     "text": [
      "Requirement already satisfied: pymupdf in /home/amine/airflow_env/lib/python3.10/site-packages (1.24.8)\n",
      "Requirement already satisfied: PyMuPDFb==1.24.8 in /home/amine/airflow_env/lib/python3.10/site-packages (from pymupdf) (1.24.8)\n",
      "\n",
      "\u001b[1m[\u001b[0m\u001b[34;49mnotice\u001b[0m\u001b[1;39;49m]\u001b[0m\u001b[39;49m A new release of pip is available: \u001b[0m\u001b[31;49m24.1.2\u001b[0m\u001b[39;49m -> \u001b[0m\u001b[32;49m24.2\u001b[0m\n",
      "\u001b[1m[\u001b[0m\u001b[34;49mnotice\u001b[0m\u001b[1;39;49m]\u001b[0m\u001b[39;49m To update, run: \u001b[0m\u001b[32;49mpip install --upgrade pip\u001b[0m\n",
      "Note: you may need to restart the kernel to use updated packages.\n"
     ]
    }
   ],
   "source": [
    "pip install pymupdf\n"
   ]
  },
  {
   "cell_type": "code",
   "execution_count": 5,
   "metadata": {},
   "outputs": [],
   "source": [
    "\n",
    "def pdf_to_jpg(pdf_path):\n",
    "    pdf_document = fitz.open(pdf_path)\n",
    "    for page_number in range(len(pdf_document)):\n",
    "        page = pdf_document.load_page(page_number)\n",
    "        pix = page.get_pixmap()\n",
    "        img = Image.frombytes(\"RGB\", [pix.width, pix.height], pix.samples)\n",
    "        output_path = f\"cv_{page_number + 1}.jpg\"\n",
    "        img.save(output_path, \"JPEG\")\n",
    "        return output_path\n",
    "    \n",
    "\n"
   ]
  },
  {
   "cell_type": "code",
   "execution_count": 56,
   "metadata": {},
   "outputs": [],
   "source": [
    "import re \n",
    "def get_mail(path):\n",
    "    r = re.compile(r'[\\w\\.-]+@[\\w\\.-]+')\n",
    "    pdf_document = fitz.open(path, filetype=\"pdf\")\n",
    "    text = \"\"\n",
    "    for page_num in range(len(pdf_document)):\n",
    "        page = pdf_document.load_page(page_num)\n",
    "        text += page.get_text()\n",
    "    liste_emails = r.findall(text) \n",
    "    emails_valides = []\n",
    "    for email in liste_emails:\n",
    "        if email.endswith(('.com', '.tn','.org','.net')):\n",
    "            emails_valides.append(email)\n",
    "    return emails_valides[0]\n"
   ]
  },
  {
   "cell_type": "code",
   "execution_count": 59,
   "metadata": {},
   "outputs": [
    {
     "name": "stdout",
     "output_type": "stream",
     "text": [
      "hajriimen154@gmail.com\n"
     ]
    }
   ],
   "source": [
    "print(get_mail('cv_hajri.pdf'))"
   ]
  },
  {
   "cell_type": "code",
   "execution_count": 42,
   "metadata": {},
   "outputs": [],
   "source": [
    "def get_skills_cv(path):\n",
    "    image_path = pdf_to_jpg(path)\n",
    "    CLIENT = InferenceHTTPClient(\n",
    "    api_url=\"https://detect.roboflow.com\",\n",
    "    api_key=\"BIrE2FC1DoCP2tdXB9MA\"\n",
    "    )\n",
    "    \n",
    "    # Define the model ID\n",
    "    model_id = \"resume-parser-bchlq/1\"\n",
    "    result = CLIENT.infer(image_path, model_id=model_id)\n",
    "    \n",
    "    image = cv2.imread(image_path)\n",
    "\n",
    "    # Extract the 'Skills' section from the result\n",
    "    skills_section = None\n",
    "    for prediction in result['predictions']:\n",
    "        if prediction['class'] == 'skills':\n",
    "            x = int(prediction['x'] - prediction['width'] / 2)\n",
    "            y = int(prediction['y'] - prediction['height'] / 2)\n",
    "            width = int(prediction['width'])\n",
    "            height = int(prediction['height'])\n",
    "            \n",
    "            skills_image = image[y:y+height, x:x+width]            \n",
    "            skills_image_rgb = cv2.cvtColor(skills_image, cv2.COLOR_BGR2RGB)\n",
    "            pil_image = Image.fromarray(skills_image_rgb)\n",
    "            skills_text = pytesseract.image_to_string(pil_image)\n",
    "            \n",
    "            return skills_text\n",
    "    else:\n",
    "        print(\"No 'Skills' section found in the image.\")\n"
   ]
  },
  {
   "cell_type": "code",
   "execution_count": 43,
   "metadata": {},
   "outputs": [],
   "source": [
    "x=get_skills_cv('cv3.jpeg')"
   ]
  },
  {
   "cell_type": "code",
   "execution_count": 44,
   "metadata": {},
   "outputs": [
    {
     "name": "stdout",
     "output_type": "stream",
     "text": [
      " \n",
      "\n",
      "COMPETENCES\n",
      "\n",
      "+ Langages de programmation :\n",
      "HTML, CSS, Tailwind CSS,\n",
      "JavaScript, React Js, Node Js,\n",
      "Flutter, PHP, Laravel, Java\n",
      "\n",
      "* Bases de données : MySQL,\n",
      "MongoDB, Firebase\n",
      "\n",
      "* Logiciels : Microsoft Office Word,\n",
      "Visual Studio Code, Android Studio,\n",
      "\n",
      "Postman, Power Bl, Figma\n",
      "\f\n"
     ]
    }
   ],
   "source": [
    "print(x)"
   ]
  },
  {
   "cell_type": "code",
   "execution_count": 14,
   "metadata": {},
   "outputs": [],
   "source": [
    "from sentence_transformers import SentenceTransformer, util\n",
    "\n",
    "sentences = [\"html css\", \"HTML CSS\"]\n",
    "\n",
    "model = SentenceTransformer('sentence-transformers/all-MiniLM-L6-v2')\n",
    "\n",
    "\n"
   ]
  },
  {
   "cell_type": "code",
   "execution_count": 15,
   "metadata": {},
   "outputs": [
    {
     "data": {
      "text/plain": [
       "tensor([[1.0000]])"
      ]
     },
     "execution_count": 15,
     "metadata": {},
     "output_type": "execute_result"
    }
   ],
   "source": [
    "embedding_1= model.encode(sentences[0], convert_to_tensor=True)\n",
    "embedding_2 = model.encode(sentences[1], convert_to_tensor=True)\n",
    "\n",
    "util.pytorch_cos_sim(embedding_1, embedding_2)"
   ]
  },
  {
   "cell_type": "code",
   "execution_count": 68,
   "metadata": {},
   "outputs": [
    {
     "name": "stdout",
     "output_type": "stream",
     "text": [
      "Failed to send email: Connection unexpectedly closed\n"
     ]
    }
   ],
   "source": [
    "import smtplib\n",
    "from email.mime.multipart import MIMEMultipart\n",
    "from email.mime.text import MIMEText\n",
    "\n",
    "# SMTP server configuration\n",
    "smtp_server = 'smtp.gmail.com'\n",
    "smtp_port = 465\n",
    "smtp_username = 'amyne095@gmail.com'  # Use your full email address\n",
    "smtp_password = 'kdbm reqo pfti tfnu'     # Use your app-specific password if 2FA is enabled\n",
    "\n",
    "# Email details\n",
    "to_email = 'hassounibarka@gmail.com'\n",
    "from_email = smtp_username\n",
    "subject = 'Hello, world!'\n",
    "body = 'This is a test email.'\n",
    "\n",
    "# Create the email message\n",
    "message = MIMEMultipart()\n",
    "message['From'] = from_email\n",
    "message['To'] = to_email\n",
    "message['Subject'] = subject\n",
    "message.attach(MIMEText(body, 'plain'))\n",
    "\n",
    "# Send the email\n",
    "try:\n",
    "    with smtplib.SMTP(smtp_server, smtp_port) as smtp:\n",
    "        smtp.starttls()  # Secure the connection\n",
    "        smtp.login(smtp_username, smtp_password)\n",
    "        smtp.send_message(message)\n",
    "        print(f\"Email sent to {to_email} with subject '{subject}'\")\n",
    "except Exception as e:\n",
    "    print(f\"Failed to send email: {e}\")\n"
   ]
  },
  {
   "cell_type": "code",
   "execution_count": 70,
   "metadata": {},
   "outputs": [],
   "source": [
    "import smtplib\n",
    "import ssl\n",
    "from email.message import EmailMessage\n",
    "\n",
    "email_password ='kdbm reqo pfti tfnu'\n",
    "email_sender = 'amyne095@gmail.com'\n",
    "email_receiver = 'hassounibarka@gmail.com'"
   ]
  },
  {
   "cell_type": "code",
   "execution_count": 72,
   "metadata": {},
   "outputs": [],
   "source": [
    "def send_mail(email_sender, email_password,email_receiver):\n",
    "    # Set the subject and body of the email\n",
    "    subject = 'Merci pour votre participation au processus de recrutement'\n",
    "    body = \"\"\"\n",
    "    Bonjour,\n",
    "\n",
    "    Nous vous remercions sincèrement pour votre participation au processus de recrutement pour le poste de [Nom du poste] au sein de notre entreprise. Nous avons bien reçu votre candidature et tenons à vous exprimer notre gratitude pour l'intérêt que vous portez à [Nom de l'entreprise].\n",
    "\n",
    "    Votre dossier est actuellement en cours d'évaluation, et nous ne manquerons pas de vous tenir informé(e) de la suite des événements dans les meilleurs délais.\n",
    "\n",
    "    En attendant, nous vous souhaitons une excellente journée.\n",
    "\n",
    "    Bien cordialement,\n",
    "    \"\"\"\n",
    "    em = EmailMessage()\n",
    "    em['From'] = email_sender\n",
    "    em['To'] = email_receiver\n",
    "    em['Subject'] = subject\n",
    "    em.set_content(body)\n",
    "\n",
    "    # Add SSL (layer of security)\n",
    "    context = ssl.create_default_context()\n",
    "\n",
    "    # Log in and send the email\n",
    "    with smtplib.SMTP_SSL('smtp.gmail.com', 465, context=context) as smtp:\n",
    "        smtp.login(email_sender, email_password)\n",
    "        smtp.sendmail(email_sender, email_receiver, em.as_string())"
   ]
  },
  {
   "cell_type": "code",
   "execution_count": 73,
   "metadata": {},
   "outputs": [],
   "source": [
    "send_mail(email_sender,email_password,email_receiver)"
   ]
  },
  {
   "cell_type": "code",
   "execution_count": null,
   "metadata": {},
   "outputs": [],
   "source": []
  }
 ],
 "metadata": {
  "kernelspec": {
   "display_name": "airflow_env",
   "language": "python",
   "name": "python3"
  },
  "language_info": {
   "codemirror_mode": {
    "name": "ipython",
    "version": 3
   },
   "file_extension": ".py",
   "mimetype": "text/x-python",
   "name": "python",
   "nbconvert_exporter": "python",
   "pygments_lexer": "ipython3",
   "version": "3.10.12"
  }
 },
 "nbformat": 4,
 "nbformat_minor": 2
}
