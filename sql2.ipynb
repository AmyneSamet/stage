{
 "cells": [
  {
   "cell_type": "code",
   "execution_count": 2,
   "metadata": {},
   "outputs": [],
   "source": [
    "import pyodbc\n",
    "import pandas as pd \n"
   ]
  },
  {
   "cell_type": "code",
   "execution_count": 3,
   "metadata": {},
   "outputs": [],
   "source": [
    "def connect():\n",
    "\n",
    "    # Define the connection string\n",
    "# Define the connection string\n",
    "    server = 'tcp:sqlsrv-stage.database.windows.net,1433'\n",
    "    database = 'sqldb_stage'\n",
    "    username = 'hababi@sqlsrv-stage'\n",
    "    password = 'Hassan&123'\n",
    "    driver = '{ODBC Driver 18 for SQL Server}'  # This driver may vary depending on your setup\n",
    "\n",
    "\n",
    "    # Create the connection\n",
    "    try:\n",
    "        conn = pyodbc.connect(f'Driver={driver};Server={server};Database={database};Uid={username};Pwd={password};Encrupt=yes;TrustServerCertificate=no;Connection Timeout=30;')        \n",
    "        print('Connected.')\n",
    "        \n",
    "        return conn\n",
    "\n",
    "    except Exception as e:\n",
    "        print(f'Error connecting to SQL Server: {str(e)}')\n"
   ]
  },
  {
   "cell_type": "code",
   "execution_count": 4,
   "metadata": {},
   "outputs": [],
   "source": [
    "def get_data():\n",
    "    sql_query = 'SELECT * FROM jobs_data'\n",
    "\n",
    "    try:\n",
    "        conn = connect()\n",
    "        df = pd.read_sql(sql_query, conn)\n",
    "        \n",
    "    except:\n",
    "        print('Connection error')\n",
    "    \n",
    "    return df\n"
   ]
  },
  {
   "cell_type": "code",
   "execution_count": 5,
   "metadata": {},
   "outputs": [
    {
     "name": "stdout",
     "output_type": "stream",
     "text": [
      "Connected.\n"
     ]
    },
    {
     "name": "stderr",
     "output_type": "stream",
     "text": [
      "/tmp/ipykernel_215505/1396910201.py:6: UserWarning: pandas only supports SQLAlchemy connectable (engine/connection) or database string URI or sqlite3 DBAPI2 connection. Other DBAPI2 objects are not tested. Please consider using SQLAlchemy.\n",
      "  df = pd.read_sql(sql_query, conn)\n"
     ]
    }
   ],
   "source": [
    "df=get_data()"
   ]
  },
  {
   "cell_type": "code",
   "execution_count": 6,
   "metadata": {},
   "outputs": [
    {
     "data": {
      "text/plain": [
       "(4541, 9)"
      ]
     },
     "execution_count": 6,
     "metadata": {},
     "output_type": "execute_result"
    }
   ],
   "source": [
    "df.shape"
   ]
  },
  {
   "cell_type": "code",
   "execution_count": 8,
   "metadata": {},
   "outputs": [
    {
     "name": "stdout",
     "output_type": "stream",
     "text": [
      "Le fichier CSV a été créé avec succès sous le nom jobs.csv.\n"
     ]
    }
   ],
   "source": [
    "csv_filename = \"jobs.csv\"\n",
    "df.to_csv(csv_filename, index=False)\n",
    "print(f\"Le fichier CSV a été créé avec succès sous le nom {csv_filename}.\")\n"
   ]
  },
  {
   "cell_type": "code",
   "execution_count": 7,
   "metadata": {},
   "outputs": [
    {
     "data": {
      "text/html": [
       "<div>\n",
       "<style scoped>\n",
       "    .dataframe tbody tr th:only-of-type {\n",
       "        vertical-align: middle;\n",
       "    }\n",
       "\n",
       "    .dataframe tbody tr th {\n",
       "        vertical-align: top;\n",
       "    }\n",
       "\n",
       "    .dataframe thead th {\n",
       "        text-align: right;\n",
       "    }\n",
       "</style>\n",
       "<table border=\"1\" class=\"dataframe\">\n",
       "  <thead>\n",
       "    <tr style=\"text-align: right;\">\n",
       "      <th></th>\n",
       "      <th>id</th>\n",
       "      <th>job_link</th>\n",
       "      <th>job_name</th>\n",
       "      <th>job_text</th>\n",
       "      <th>job_company</th>\n",
       "      <th>job_location</th>\n",
       "      <th>job_type</th>\n",
       "      <th>job_date</th>\n",
       "      <th>skills</th>\n",
       "    </tr>\n",
       "  </thead>\n",
       "  <tbody>\n",
       "    <tr>\n",
       "      <th>0</th>\n",
       "      <td>1</td>\n",
       "      <td>https://fr.linkedin.com/jobs/view/freelance-bu...</td>\n",
       "      <td>FREELANCE - Business Analyst SI Gestion des dé...</td>\n",
       "      <td>Description :Notre cabinet recherche un Busine...</td>\n",
       "      <td>Mon Consultant Indépendant</td>\n",
       "      <td>Greater Paris Metropolitan Region</td>\n",
       "      <td>AUTRE</td>\n",
       "      <td>2024-07-18</td>\n",
       "      <td>business sql</td>\n",
       "    </tr>\n",
       "    <tr>\n",
       "      <th>1</th>\n",
       "      <td>2</td>\n",
       "      <td>https://fr.linkedin.com/jobs/view/mid-senior-t...</td>\n",
       "      <td>Mid/Senior Tester QA</td>\n",
       "      <td>ResponsibilitiesBy joining us, you are guarant...</td>\n",
       "      <td>Virtuos France</td>\n",
       "      <td>Cergy, Île-de-France, France</td>\n",
       "      <td>AUTRE</td>\n",
       "      <td>2024-07-18</td>\n",
       "      <td>mobile software jira game development support ...</td>\n",
       "    </tr>\n",
       "    <tr>\n",
       "      <th>2</th>\n",
       "      <td>3</td>\n",
       "      <td>https://fr.linkedin.com/jobs/view/freelance-se...</td>\n",
       "      <td>FREELANCE -  Senior Consultant Expert Cyber Se...</td>\n",
       "      <td>Notre cabinet recherche un Senior Consultant E...</td>\n",
       "      <td>Mon Consultant Indépendant</td>\n",
       "      <td>Greater Paris Metropolitan Region</td>\n",
       "      <td>AUTRE</td>\n",
       "      <td>2024-07-18</td>\n",
       "      <td>business support security</td>\n",
       "    </tr>\n",
       "    <tr>\n",
       "      <th>3</th>\n",
       "      <td>4</td>\n",
       "      <td>https://fr.linkedin.com/jobs/view/un-talent-de...</td>\n",
       "      <td>UN TALENT DE TALEND EST ATTENDU À LYON ! (H/F)</td>\n",
       "      <td>Notre sociétéNext Decision, c'est quoi ?Un Cab...</td>\n",
       "      <td>Next Décision</td>\n",
       "      <td>Lyon, Auvergne-Rhône-Alpes, France</td>\n",
       "      <td>AUTRE</td>\n",
       "      <td>2024-07-18</td>\n",
       "      <td>big data json data quality mode flux crm busin...</td>\n",
       "    </tr>\n",
       "    <tr>\n",
       "      <th>4</th>\n",
       "      <td>5</td>\n",
       "      <td>https://fr.linkedin.com/jobs/view/ing%C3%A9nie...</td>\n",
       "      <td>Ingénieur Data</td>\n",
       "      <td>Description du Poste: Nous sommes à la recherc...</td>\n",
       "      <td>Free-Work</td>\n",
       "      <td>Île-de-France, France</td>\n",
       "      <td>AUTRE</td>\n",
       "      <td>2024-07-18</td>\n",
       "      <td>azure sql spark databricks server bigquery flu...</td>\n",
       "    </tr>\n",
       "  </tbody>\n",
       "</table>\n",
       "</div>"
      ],
      "text/plain": [
       "   id                                           job_link  \\\n",
       "0   1  https://fr.linkedin.com/jobs/view/freelance-bu...   \n",
       "1   2  https://fr.linkedin.com/jobs/view/mid-senior-t...   \n",
       "2   3  https://fr.linkedin.com/jobs/view/freelance-se...   \n",
       "3   4  https://fr.linkedin.com/jobs/view/un-talent-de...   \n",
       "4   5  https://fr.linkedin.com/jobs/view/ing%C3%A9nie...   \n",
       "\n",
       "                                            job_name  \\\n",
       "0  FREELANCE - Business Analyst SI Gestion des dé...   \n",
       "1                               Mid/Senior Tester QA   \n",
       "2  FREELANCE -  Senior Consultant Expert Cyber Se...   \n",
       "3     UN TALENT DE TALEND EST ATTENDU À LYON ! (H/F)   \n",
       "4                                     Ingénieur Data   \n",
       "\n",
       "                                            job_text  \\\n",
       "0  Description :Notre cabinet recherche un Busine...   \n",
       "1  ResponsibilitiesBy joining us, you are guarant...   \n",
       "2  Notre cabinet recherche un Senior Consultant E...   \n",
       "3  Notre sociétéNext Decision, c'est quoi ?Un Cab...   \n",
       "4  Description du Poste: Nous sommes à la recherc...   \n",
       "\n",
       "                  job_company                        job_location job_type  \\\n",
       "0  Mon Consultant Indépendant   Greater Paris Metropolitan Region    AUTRE   \n",
       "1              Virtuos France        Cergy, Île-de-France, France    AUTRE   \n",
       "2  Mon Consultant Indépendant   Greater Paris Metropolitan Region    AUTRE   \n",
       "3               Next Décision  Lyon, Auvergne-Rhône-Alpes, France    AUTRE   \n",
       "4                   Free-Work               Île-de-France, France    AUTRE   \n",
       "\n",
       "     job_date                                             skills  \n",
       "0  2024-07-18                                       business sql  \n",
       "1  2024-07-18  mobile software jira game development support ...  \n",
       "2  2024-07-18                          business support security  \n",
       "3  2024-07-18  big data json data quality mode flux crm busin...  \n",
       "4  2024-07-18  azure sql spark databricks server bigquery flu...  "
      ]
     },
     "execution_count": 7,
     "metadata": {},
     "output_type": "execute_result"
    }
   ],
   "source": [
    "df.head()"
   ]
  },
  {
   "cell_type": "code",
   "execution_count": null,
   "metadata": {},
   "outputs": [],
   "source": []
  }
 ],
 "metadata": {
  "kernelspec": {
   "display_name": "airflow_env",
   "language": "python",
   "name": "python3"
  },
  "language_info": {
   "codemirror_mode": {
    "name": "ipython",
    "version": 3
   },
   "file_extension": ".py",
   "mimetype": "text/x-python",
   "name": "python",
   "nbconvert_exporter": "python",
   "pygments_lexer": "ipython3",
   "version": "3.10.12"
  }
 },
 "nbformat": 4,
 "nbformat_minor": 2
}
