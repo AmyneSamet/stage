{
 "cells": [
  {
   "cell_type": "code",
   "execution_count": 1,
   "metadata": {},
   "outputs": [],
   "source": [
    "import pyodbc\n",
    "import pandas as pd"
   ]
  },
  {
   "cell_type": "code",
   "execution_count": 2,
   "metadata": {},
   "outputs": [],
   "source": [
    "def connect():\n",
    "\n",
    "    # Define the connection string\n",
    "# Define the connection string\n",
    "    server = 'tcp:sqlsrv-stage.database.windows.net,1433'\n",
    "    database = 'sqldb_stage'\n",
    "    username = 'hababi@sqlsrv-stage'\n",
    "    password = 'Hassan&123'\n",
    "    driver = '{ODBC Driver 18 for SQL Server}'  # This driver may vary depending on your setup\n",
    "\n",
    "\n",
    "    # Create the connection\n",
    "    try:\n",
    "        conn = pyodbc.connect(f'Driver={driver};Server={server};Database={database};Uid={username};Pwd={password};Encrupt=yes;TrustServerCertificate=no;Connection Timeout=30;')        \n",
    "        print('Connected.')\n",
    "        \n",
    "        return conn\n",
    "\n",
    "    except Exception as e:\n",
    "        print(f'Error connecting to SQL Server: {str(e)}')\n"
   ]
  },
  {
   "cell_type": "code",
   "execution_count": 3,
   "metadata": {},
   "outputs": [],
   "source": [
    "def create_jobdb():\n",
    "    conn = connect()\n",
    "    cursor = conn.cursor()\n",
    "\n",
    "    # SQL command to create a table\n",
    "    create_table_sql = '''\n",
    "    CREATE TABLE jobs_data (\n",
    "        id INT IDENTITY(1,1) PRIMARY KEY,\n",
    "        job_link NVARCHAR(MAX),\n",
    "        job_name NVARCHAR(255),\n",
    "        job_text NVARCHAR(MAX),\n",
    "        job_company NVARCHAR(255),\n",
    "        job_location NVARCHAR(255),\n",
    "        job_type NVARCHAR(50),\n",
    "        job_date DATE,\n",
    "        skills NVARCHAR(MAX)\n",
    "    );\n",
    "    '''\n",
    "\n",
    "    # Executing the SQL command\n",
    "    cursor.execute(create_table_sql)\n",
    "    conn.commit()\n",
    "\n",
    "    # Closing the connection\n",
    "    cursor.close()\n",
    "    conn.close()\n",
    "\n",
    "    print(\"Table created successfully.\")\n"
   ]
  },
  {
   "cell_type": "code",
   "execution_count": 4,
   "metadata": {},
   "outputs": [
    {
     "name": "stdout",
     "output_type": "stream",
     "text": [
      "Connected.\n"
     ]
    },
    {
     "ename": "ProgrammingError",
     "evalue": "('42S01', \"[42S01] [Microsoft][ODBC Driver 18 for SQL Server][SQL Server]There is already an object named 'jobs_data' in the database. (2714) (SQLExecDirectW)\")",
     "output_type": "error",
     "traceback": [
      "\u001b[0;31m---------------------------------------------------------------------------\u001b[0m",
      "\u001b[0;31mProgrammingError\u001b[0m                          Traceback (most recent call last)",
      "Cell \u001b[0;32mIn[4], line 1\u001b[0m\n\u001b[0;32m----> 1\u001b[0m \u001b[43mcreate_jobdb\u001b[49m\u001b[43m(\u001b[49m\u001b[43m)\u001b[49m\n",
      "Cell \u001b[0;32mIn[3], line 21\u001b[0m, in \u001b[0;36mcreate_jobdb\u001b[0;34m()\u001b[0m\n\u001b[1;32m      6\u001b[0m create_table_sql \u001b[38;5;241m=\u001b[39m \u001b[38;5;124m'''\u001b[39m\n\u001b[1;32m      7\u001b[0m \u001b[38;5;124mCREATE TABLE jobs_data (\u001b[39m\n\u001b[1;32m      8\u001b[0m \u001b[38;5;124m    id INT IDENTITY(1,1) PRIMARY KEY,\u001b[39m\n\u001b[0;32m   (...)\u001b[0m\n\u001b[1;32m     17\u001b[0m \u001b[38;5;124m);\u001b[39m\n\u001b[1;32m     18\u001b[0m \u001b[38;5;124m\u001b[39m\u001b[38;5;124m'''\u001b[39m\n\u001b[1;32m     20\u001b[0m \u001b[38;5;66;03m# Executing the SQL command\u001b[39;00m\n\u001b[0;32m---> 21\u001b[0m \u001b[43mcursor\u001b[49m\u001b[38;5;241;43m.\u001b[39;49m\u001b[43mexecute\u001b[49m\u001b[43m(\u001b[49m\u001b[43mcreate_table_sql\u001b[49m\u001b[43m)\u001b[49m\n\u001b[1;32m     22\u001b[0m conn\u001b[38;5;241m.\u001b[39mcommit()\n\u001b[1;32m     24\u001b[0m \u001b[38;5;66;03m# Closing the connection\u001b[39;00m\n",
      "\u001b[0;31mProgrammingError\u001b[0m: ('42S01', \"[42S01] [Microsoft][ODBC Driver 18 for SQL Server][SQL Server]There is already an object named 'jobs_data' in the database. (2714) (SQLExecDirectW)\")"
     ]
    }
   ],
   "source": [
    "create_jobdb()"
   ]
  },
  {
   "cell_type": "code",
   "execution_count": 5,
   "metadata": {},
   "outputs": [],
   "source": [
    "def insert_data(path):\n",
    "    df = pd.read_csv(path)\n",
    "    df = df.dropna()\n",
    "    \n",
    "    \n",
    "    # query\n",
    "    insert_query = \"\"\"\n",
    "        INSERT INTO jobs_data (job_link, job_name, job_text, job_company, job_location, job_type, job_date, skills)\n",
    "        VALUES (?, ?, ?, ?, ?, ?, ?, ?)\n",
    "    \"\"\"\n",
    "    \n",
    "\n",
    "    conn = None\n",
    "\n",
    "    i = 0\n",
    "    for _, row in df.iterrows():\n",
    "        if not conn:\n",
    "            conn = connect()\n",
    "            cursor = conn.cursor()\n",
    "        try:\n",
    "            cursor.execute(insert_query, \n",
    "                        row['job_link'], \n",
    "                        row['job_name'], \n",
    "                        row['job_text'], \n",
    "                        row['job_company'], \n",
    "                        row['job_location'], \n",
    "                        row['job_type'], \n",
    "                        row['job_date'],\n",
    "                        row['skills']\n",
    "                        )\n",
    "            i+=1\n",
    "            print(i,\"rows inserted\",end=\"\\r\")\n",
    "        except pyodbc.Error as pe:\n",
    "            print(\"Error:\", pe)\n",
    "            if pe.args[0] == \"08S01\":  \n",
    "                try:\n",
    "                    conn.close()\n",
    "                except:\n",
    "                    pass\n",
    "                conn = None\n",
    "                continue\n",
    "    \n",
    "        \n",
    "    \n",
    "    # Commit the transaction\n",
    "    conn.commit()\n",
    "    \n",
    "    # Close the connection\n",
    "    cursor.close()\n",
    "    conn.close()\n"
   ]
  },
  {
   "cell_type": "code",
   "execution_count": 6,
   "metadata": {},
   "outputs": [
    {
     "name": "stdout",
     "output_type": "stream",
     "text": [
      "Connected.\n",
      "8 rows inserted\r"
     ]
    },
    {
     "ename": "SystemError",
     "evalue": "<class 'pyodbc.Error'> returned a result with an exception set",
     "output_type": "error",
     "traceback": [
      "\u001b[0;31m---------------------------------------------------------------------------\u001b[0m",
      "\u001b[0;31mKeyboardInterrupt\u001b[0m                         Traceback (most recent call last)",
      "File \u001b[0;32m/usr/lib/python3.10/encodings/utf_16_le.py:15\u001b[0m, in \u001b[0;36mdecode\u001b[0;34m(input, errors)\u001b[0m\n\u001b[1;32m     13\u001b[0m encode \u001b[38;5;241m=\u001b[39m codecs\u001b[38;5;241m.\u001b[39mutf_16_le_encode\n\u001b[0;32m---> 15\u001b[0m \u001b[38;5;28;01mdef\u001b[39;00m \u001b[38;5;21mdecode\u001b[39m(\u001b[38;5;28minput\u001b[39m, errors\u001b[38;5;241m=\u001b[39m\u001b[38;5;124m'\u001b[39m\u001b[38;5;124mstrict\u001b[39m\u001b[38;5;124m'\u001b[39m):\n\u001b[1;32m     16\u001b[0m     \u001b[38;5;28;01mreturn\u001b[39;00m codecs\u001b[38;5;241m.\u001b[39mutf_16_le_decode(\u001b[38;5;28minput\u001b[39m, errors, \u001b[38;5;28;01mTrue\u001b[39;00m)\n",
      "\u001b[0;31mKeyboardInterrupt\u001b[0m: ",
      "\nThe above exception was the direct cause of the following exception:\n",
      "\u001b[0;31mKeyboardInterrupt\u001b[0m                         Traceback (most recent call last)",
      "\u001b[0;31mKeyboardInterrupt\u001b[0m: decoding with 'utf-16le' codec failed (KeyboardInterrupt: )",
      "\nThe above exception was the direct cause of the following exception:\n",
      "\u001b[0;31mSystemError\u001b[0m                               Traceback (most recent call last)",
      "Cell \u001b[0;32mIn[6], line 1\u001b[0m\n\u001b[0;32m----> 1\u001b[0m \u001b[43minsert_data\u001b[49m\u001b[43m(\u001b[49m\u001b[38;5;124;43m\"\u001b[39;49m\u001b[38;5;124;43mjobs_data.csv\u001b[39;49m\u001b[38;5;124;43m\"\u001b[39;49m\u001b[43m)\u001b[49m\n",
      "Cell \u001b[0;32mIn[5], line 21\u001b[0m, in \u001b[0;36minsert_data\u001b[0;34m(path)\u001b[0m\n\u001b[1;32m     19\u001b[0m     cursor \u001b[38;5;241m=\u001b[39m conn\u001b[38;5;241m.\u001b[39mcursor()\n\u001b[1;32m     20\u001b[0m \u001b[38;5;28;01mtry\u001b[39;00m:\n\u001b[0;32m---> 21\u001b[0m     \u001b[43mcursor\u001b[49m\u001b[38;5;241;43m.\u001b[39;49m\u001b[43mexecute\u001b[49m\u001b[43m(\u001b[49m\u001b[43minsert_query\u001b[49m\u001b[43m,\u001b[49m\u001b[43m \u001b[49m\n\u001b[1;32m     22\u001b[0m \u001b[43m                \u001b[49m\u001b[43mrow\u001b[49m\u001b[43m[\u001b[49m\u001b[38;5;124;43m'\u001b[39;49m\u001b[38;5;124;43mjob_link\u001b[39;49m\u001b[38;5;124;43m'\u001b[39;49m\u001b[43m]\u001b[49m\u001b[43m,\u001b[49m\u001b[43m \u001b[49m\n\u001b[1;32m     23\u001b[0m \u001b[43m                \u001b[49m\u001b[43mrow\u001b[49m\u001b[43m[\u001b[49m\u001b[38;5;124;43m'\u001b[39;49m\u001b[38;5;124;43mjob_name\u001b[39;49m\u001b[38;5;124;43m'\u001b[39;49m\u001b[43m]\u001b[49m\u001b[43m,\u001b[49m\u001b[43m \u001b[49m\n\u001b[1;32m     24\u001b[0m \u001b[43m                \u001b[49m\u001b[43mrow\u001b[49m\u001b[43m[\u001b[49m\u001b[38;5;124;43m'\u001b[39;49m\u001b[38;5;124;43mjob_text\u001b[39;49m\u001b[38;5;124;43m'\u001b[39;49m\u001b[43m]\u001b[49m\u001b[43m,\u001b[49m\u001b[43m \u001b[49m\n\u001b[1;32m     25\u001b[0m \u001b[43m                \u001b[49m\u001b[43mrow\u001b[49m\u001b[43m[\u001b[49m\u001b[38;5;124;43m'\u001b[39;49m\u001b[38;5;124;43mjob_company\u001b[39;49m\u001b[38;5;124;43m'\u001b[39;49m\u001b[43m]\u001b[49m\u001b[43m,\u001b[49m\u001b[43m \u001b[49m\n\u001b[1;32m     26\u001b[0m \u001b[43m                \u001b[49m\u001b[43mrow\u001b[49m\u001b[43m[\u001b[49m\u001b[38;5;124;43m'\u001b[39;49m\u001b[38;5;124;43mjob_location\u001b[39;49m\u001b[38;5;124;43m'\u001b[39;49m\u001b[43m]\u001b[49m\u001b[43m,\u001b[49m\u001b[43m \u001b[49m\n\u001b[1;32m     27\u001b[0m \u001b[43m                \u001b[49m\u001b[43mrow\u001b[49m\u001b[43m[\u001b[49m\u001b[38;5;124;43m'\u001b[39;49m\u001b[38;5;124;43mjob_type\u001b[39;49m\u001b[38;5;124;43m'\u001b[39;49m\u001b[43m]\u001b[49m\u001b[43m,\u001b[49m\u001b[43m \u001b[49m\n\u001b[1;32m     28\u001b[0m \u001b[43m                \u001b[49m\u001b[43mrow\u001b[49m\u001b[43m[\u001b[49m\u001b[38;5;124;43m'\u001b[39;49m\u001b[38;5;124;43mjob_date\u001b[39;49m\u001b[38;5;124;43m'\u001b[39;49m\u001b[43m]\u001b[49m\u001b[43m,\u001b[49m\n\u001b[1;32m     29\u001b[0m \u001b[43m                \u001b[49m\u001b[43mrow\u001b[49m\u001b[43m[\u001b[49m\u001b[38;5;124;43m'\u001b[39;49m\u001b[38;5;124;43mskills\u001b[39;49m\u001b[38;5;124;43m'\u001b[39;49m\u001b[43m]\u001b[49m\n\u001b[1;32m     30\u001b[0m \u001b[43m                \u001b[49m\u001b[43m)\u001b[49m\n\u001b[1;32m     31\u001b[0m     i\u001b[38;5;241m+\u001b[39m\u001b[38;5;241m=\u001b[39m\u001b[38;5;241m1\u001b[39m\n\u001b[1;32m     32\u001b[0m     \u001b[38;5;28mprint\u001b[39m(i,\u001b[38;5;124m\"\u001b[39m\u001b[38;5;124mrows inserted\u001b[39m\u001b[38;5;124m\"\u001b[39m,end\u001b[38;5;241m=\u001b[39m\u001b[38;5;124m\"\u001b[39m\u001b[38;5;130;01m\\r\u001b[39;00m\u001b[38;5;124m\"\u001b[39m)\n",
      "\u001b[0;31mSystemError\u001b[0m: <class 'pyodbc.Error'> returned a result with an exception set"
     ]
    }
   ],
   "source": [
    "insert_data(\"jobs_data.csv\")"
   ]
  },
  {
   "cell_type": "code",
   "execution_count": 11,
   "metadata": {},
   "outputs": [],
   "source": [
    "import psycopg2\n",
    "import pandas as pd\n",
    "\n",
    "def connect():\n",
    "    try:\n",
    "        conn = psycopg2.connect(\"host=127.0.0.1 dbname=postgres user=postgres password=aminecss\")\n",
    "        print('DB connected successfully')\n",
    "        return conn\n",
    "    except Exception as e:\n",
    "        print(f\"Error connecting to DB: {e}\")\n",
    "        raise"
   ]
  },
  {
   "cell_type": "code",
   "execution_count": 12,
   "metadata": {},
   "outputs": [
    {
     "name": "stdout",
     "output_type": "stream",
     "text": [
      "DB connected successfully\n"
     ]
    }
   ],
   "source": [
    "conn=connect()\n",
    "cursor = conn.cursor()"
   ]
  },
  {
   "cell_type": "code",
   "execution_count": 16,
   "metadata": {},
   "outputs": [],
   "source": []
  }
 ],
 "metadata": {
  "kernelspec": {
   "display_name": "airflow_env",
   "language": "python",
   "name": "python3"
  },
  "language_info": {
   "codemirror_mode": {
    "name": "ipython",
    "version": 3
   },
   "file_extension": ".py",
   "mimetype": "text/x-python",
   "name": "python",
   "nbconvert_exporter": "python",
   "pygments_lexer": "ipython3",
   "version": "3.10.12"
  }
 },
 "nbformat": 4,
 "nbformat_minor": 2
}
