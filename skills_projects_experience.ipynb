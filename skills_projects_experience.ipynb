{
 "cells": [
  {
   "cell_type": "code",
   "execution_count": 7,
   "metadata": {},
   "outputs": [],
   "source": [
    "from inference_sdk import InferenceHTTPClient\n",
    "\n",
    "import cv2\n",
    "from PIL import Image\n",
    "import pytesseract\n",
    "import fitz\n",
    "import spacy"
   ]
  },
  {
   "cell_type": "code",
   "execution_count": 3,
   "metadata": {},
   "outputs": [],
   "source": [
    "def pdf_to_jpg(pdf_path):\n",
    "    pdf_document = fitz.open(pdf_path)\n",
    "    for page_number in range(len(pdf_document)):\n",
    "        page = pdf_document.load_page(page_number)\n",
    "        pix = page.get_pixmap()\n",
    "        img = Image.frombytes(\"RGB\", [pix.width, pix.height], pix.samples)\n",
    "        output_path = f\"cv_{page_number + 1}.jpg\"\n",
    "        img.save(output_path, \"JPEG\")\n",
    "        return output_path\n"
   ]
  },
  {
   "cell_type": "code",
   "execution_count": 12,
   "metadata": {},
   "outputs": [],
   "source": [
    "def get_skills(text):\n",
    "    nlp=spacy.load(\"en_core_web_lg\",disable=['ner'])\n",
    "    ruler = nlp.add_pipe(\"entity_ruler\")\n",
    "    ruler.from_disk('jz_skill_patterns.jsonl')\n",
    "    doc = nlp(text.lower())\n",
    "    list_skills = []\n",
    "    for ent in doc.ents:\n",
    "        if ent.label_ == \"SKILL\":\n",
    "            list_skills.append(ent.text.lower())  # lower\n",
    "    list_skills = list(set(list_skills))\n",
    "    return ' '.join(list_skills)"
   ]
  },
  {
   "cell_type": "code",
   "execution_count": 13,
   "metadata": {},
   "outputs": [],
   "source": [
    "def get_skills_experience_and_project_cv(path):\n",
    "    image_path = pdf_to_jpg(path)\n",
    "    CLIENT = InferenceHTTPClient(\n",
    "    api_url=\"https://detect.roboflow.com\",\n",
    "    api_key=\"BIrE2FC1DoCP2tdXB9MA\"\n",
    "    )\n",
    "    \n",
    "    # Define the model ID\n",
    "    model_id = \"resume-parser-bchlq/1\"\n",
    "    result = CLIENT.infer(image_path, model_id=model_id)\n",
    "    \n",
    "    image = cv2.imread(image_path)\n",
    "\n",
    "    skills_text = ''\n",
    "    for prediction in result['predictions']:\n",
    "        if prediction['class'] == 'Experience':\n",
    "            x = int(prediction['x'] - prediction['width'] / 2)\n",
    "            y = int(prediction['y'] - prediction['height'] / 2)\n",
    "            width = int(prediction['width'])\n",
    "            height = int(prediction['height'])\n",
    "            \n",
    "            skills_image = image[y:y+height, x:x+width]            \n",
    "            skills_image_rgb = cv2.cvtColor(skills_image, cv2.COLOR_BGR2RGB)\n",
    "            pil_image = Image.fromarray(skills_image_rgb)\n",
    "            skills_text += pytesseract.image_to_string(pil_image)\n",
    "        \n",
    "        if prediction['class'] == 'Projects':\n",
    "            x = int(prediction['x'] - prediction['width'] / 2)\n",
    "            y = int(prediction['y'] - prediction['height'] / 2)\n",
    "            width = int(prediction['width'])\n",
    "            height = int(prediction['height'])\n",
    "            \n",
    "            skills_image = image[y:y+height, x:x+width]            \n",
    "            skills_image_rgb = cv2.cvtColor(skills_image, cv2.COLOR_BGR2RGB)\n",
    "            pil_image = Image.fromarray(skills_image_rgb)\n",
    "            skills_text += pytesseract.image_to_string(pil_image)\n",
    "            \n",
    "    return get_skills(skills_text)"
   ]
  },
  {
   "cell_type": "code",
   "execution_count": 15,
   "metadata": {},
   "outputs": [
    {
     "data": {
      "text/plain": [
       "'image processing unity ml web mining raspberry pi machine learning algorithm opencv python artificial intelligence database arduino software nlp algorithms robot testing simulation computer vision angular mysql pandas tensorflow firebase selenium deployment numpy'"
      ]
     },
     "execution_count": 15,
     "metadata": {},
     "output_type": "execute_result"
    }
   ],
   "source": [
    "get_skills_experience_and_project_cv('elbahri chayma.pdf')"
   ]
  },
  {
   "cell_type": "code",
   "execution_count": null,
   "metadata": {},
   "outputs": [],
   "source": []
  }
 ],
 "metadata": {
  "kernelspec": {
   "display_name": "airflow_env",
   "language": "python",
   "name": "python3"
  },
  "language_info": {
   "codemirror_mode": {
    "name": "ipython",
    "version": 3
   },
   "file_extension": ".py",
   "mimetype": "text/x-python",
   "name": "python",
   "nbconvert_exporter": "python",
   "pygments_lexer": "ipython3",
   "version": "3.10.12"
  }
 },
 "nbformat": 4,
 "nbformat_minor": 2
}
