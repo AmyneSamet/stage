{
 "cells": [
  {
   "cell_type": "code",
   "execution_count": 1,
   "metadata": {},
   "outputs": [],
   "source": [
    "import spacy\n",
    "import pandas as pd"
   ]
  },
  {
   "cell_type": "code",
   "execution_count": 4,
   "metadata": {},
   "outputs": [],
   "source": [
    "def load_skills(path=\"jz_skill_patterns.jsonl\"):\n",
    "    nlp=spacy.load(\"en_core_web_lg\",disable=['ner'])\n",
    "    ruler = nlp.add_pipe(\"entity_ruler\")\n",
    "    ruler.from_disk(path)\n",
    "    return nlp\n",
    "\n"
   ]
  },
  {
   "cell_type": "code",
   "execution_count": 5,
   "metadata": {},
   "outputs": [],
   "source": [
    "nlp=load_skills()\n"
   ]
  },
  {
   "cell_type": "code",
   "execution_count": 6,
   "metadata": {},
   "outputs": [],
   "source": [
    "def get_type(text):\n",
    "    if \"stage\" in text.lower() or \"courte durée\" in text.lower():\n",
    "        text = \"stage\"\n",
    "    elif \"alternance\" in text.lower():\n",
    "        text = \"alternance\"\n",
    "\n",
    "    elif \"cdi\" in text.lower():\n",
    "        text = \"cdi\"\n",
    "    \n",
    "    elif \"cdd\" in text.lower():\n",
    "        text = \"cdd\"\n",
    "    \n",
    "    elif \"freelance\" in text.lower() or \"indépendant\" in text.lower():\n",
    "        text = \"freelance\"\n",
    "    else:\n",
    "        text = \"autre\"\n",
    "\n",
    "    return text.capitalize()\n"
   ]
  },
  {
   "cell_type": "code",
   "execution_count": 7,
   "metadata": {},
   "outputs": [],
   "source": [
    "def get_skills(text):\n",
    "    doc = nlp(text.lower())\n",
    "    list_skills = []\n",
    "    for ent in doc.ents:\n",
    "        if ent.label_ == \"SKILL\":\n",
    "            list_skills.append(ent.text.lower())  # lower\n",
    "    list_skills = list(set(list_skills))\n",
    "    return ' '.join(list_skills)\n",
    "\n"
   ]
  },
  {
   "cell_type": "code",
   "execution_count": 8,
   "metadata": {},
   "outputs": [],
   "source": [
    "df_linkedin=pd.read_csv('linkedin.csv')\n",
    "df_jungle=pd.read_csv('welcome_jungle.csv')\n",
    "df_indeed=pd.read_csv('indeed.csv')"
   ]
  },
  {
   "cell_type": "code",
   "execution_count": 9,
   "metadata": {},
   "outputs": [
    {
     "data": {
      "text/plain": [
       "Index(['job_link', 'job_name', 'job_text', 'job_company', 'job_location',\n",
       "       'job_type', 'job_date'],\n",
       "      dtype='object')"
      ]
     },
     "execution_count": 9,
     "metadata": {},
     "output_type": "execute_result"
    }
   ],
   "source": [
    "df_linkedin.columns\n"
   ]
  },
  {
   "cell_type": "code",
   "execution_count": 10,
   "metadata": {},
   "outputs": [
    {
     "data": {
      "text/plain": [
       "Index(['job_link', 'job_name', 'job_text', 'job_company', 'job_location',\n",
       "       'job_type', 'job_date'],\n",
       "      dtype='object')"
      ]
     },
     "execution_count": 10,
     "metadata": {},
     "output_type": "execute_result"
    }
   ],
   "source": [
    "df_indeed.columns\n"
   ]
  },
  {
   "cell_type": "code",
   "execution_count": 11,
   "metadata": {},
   "outputs": [
    {
     "data": {
      "text/plain": [
       "Index(['Job_Link', 'Job_txt', 'company', 'job_title', 'Location', 'job_type',\n",
       "       'job_date'],\n",
       "      dtype='object')"
      ]
     },
     "execution_count": 11,
     "metadata": {},
     "output_type": "execute_result"
    }
   ],
   "source": [
    "df_jungle.columns"
   ]
  },
  {
   "cell_type": "code",
   "execution_count": 12,
   "metadata": {},
   "outputs": [],
   "source": [
    "new_columns = ['job_link', 'job_name', 'job_text', 'job_company', 'job_location', 'job_type', 'job_date']\n",
    "\n",
    "df_jungle = df_jungle.rename(columns=dict(zip(df_jungle.columns, new_columns)))"
   ]
  },
  {
   "cell_type": "code",
   "execution_count": 13,
   "metadata": {},
   "outputs": [
    {
     "data": {
      "text/plain": [
       "Index(['job_link', 'job_name', 'job_text', 'job_company', 'job_location',\n",
       "       'job_type', 'job_date'],\n",
       "      dtype='object')"
      ]
     },
     "execution_count": 13,
     "metadata": {},
     "output_type": "execute_result"
    }
   ],
   "source": [
    "df_jungle.columns"
   ]
  },
  {
   "cell_type": "code",
   "execution_count": 39,
   "metadata": {},
   "outputs": [],
   "source": [
    "data=pd.concat([df_indeed,df_jungle,df_linkedin],axis=0)\n",
    "data.reset_index(drop=True, inplace=True)\n"
   ]
  },
  {
   "cell_type": "code",
   "execution_count": 40,
   "metadata": {},
   "outputs": [
    {
     "data": {
      "text/html": [
       "<div>\n",
       "<style scoped>\n",
       "    .dataframe tbody tr th:only-of-type {\n",
       "        vertical-align: middle;\n",
       "    }\n",
       "\n",
       "    .dataframe tbody tr th {\n",
       "        vertical-align: top;\n",
       "    }\n",
       "\n",
       "    .dataframe thead th {\n",
       "        text-align: right;\n",
       "    }\n",
       "</style>\n",
       "<table border=\"1\" class=\"dataframe\">\n",
       "  <thead>\n",
       "    <tr style=\"text-align: right;\">\n",
       "      <th></th>\n",
       "      <th>job_link</th>\n",
       "      <th>job_name</th>\n",
       "      <th>job_text</th>\n",
       "      <th>job_company</th>\n",
       "      <th>job_location</th>\n",
       "      <th>job_type</th>\n",
       "      <th>job_date</th>\n",
       "    </tr>\n",
       "  </thead>\n",
       "  <tbody>\n",
       "    <tr>\n",
       "      <th>0</th>\n",
       "      <td>https://fr.indeed.com//rc/clk?jk=f02d26eaa5ee3...</td>\n",
       "      <td>Data Analyst Transport H/F</td>\n",
       "      <td>Bouygues Construction Matériel apporte son sav...</td>\n",
       "      <td>Bouygues Construction Matériel</td>\n",
       "      <td>Chilly-Mazarin (91)</td>\n",
       "      <td>CDI</td>\n",
       "      <td>2024-07-10</td>\n",
       "    </tr>\n",
       "    <tr>\n",
       "      <th>1</th>\n",
       "      <td>https://fr.indeed.com//rc/clk?jk=0793e3b3707f5...</td>\n",
       "      <td>Data analyst F/H</td>\n",
       "      <td>Détail de l'offre Informations générales Descr...</td>\n",
       "      <td>ALKERA</td>\n",
       "      <td>Clichy (92)</td>\n",
       "      <td>CDI, Temps plein</td>\n",
       "      <td>2024-07-12</td>\n",
       "    </tr>\n",
       "    <tr>\n",
       "      <th>2</th>\n",
       "      <td>https://fr.indeed.com//rc/clk?jk=92b3c6db22ecb...</td>\n",
       "      <td>Junior Data Analyst H/F</td>\n",
       "      <td>Lectra SA            Junior Data Analyst H/F  ...</td>\n",
       "      <td>Lectra</td>\n",
       "      <td>Cestas (33)</td>\n",
       "      <td>NaN</td>\n",
       "      <td>2024-07-11</td>\n",
       "    </tr>\n",
       "    <tr>\n",
       "      <th>3</th>\n",
       "      <td>https://fr.indeed.com//rc/clk?jk=965d2d27c6c5e...</td>\n",
       "      <td>Data Analyst (H/F)</td>\n",
       "      <td>Lille       CDI        Publiée il y a plus de ...</td>\n",
       "      <td>Infogene</td>\n",
       "      <td>Lille (59)</td>\n",
       "      <td>CDI</td>\n",
       "      <td>2024-07-12</td>\n",
       "    </tr>\n",
       "    <tr>\n",
       "      <th>4</th>\n",
       "      <td>https://fr.indeed.com//rc/clk?jk=ed41fb1cfd983...</td>\n",
       "      <td>CDI - Hyperviseur / Data Analyst (F/H)</td>\n",
       "      <td>Identifiant de la demande: 31678          Vill...</td>\n",
       "      <td>GRDF</td>\n",
       "      <td>Paris (75)</td>\n",
       "      <td>CDI, Temps plein</td>\n",
       "      <td>2024-07-12</td>\n",
       "    </tr>\n",
       "  </tbody>\n",
       "</table>\n",
       "</div>"
      ],
      "text/plain": [
       "                                            job_link  \\\n",
       "0  https://fr.indeed.com//rc/clk?jk=f02d26eaa5ee3...   \n",
       "1  https://fr.indeed.com//rc/clk?jk=0793e3b3707f5...   \n",
       "2  https://fr.indeed.com//rc/clk?jk=92b3c6db22ecb...   \n",
       "3  https://fr.indeed.com//rc/clk?jk=965d2d27c6c5e...   \n",
       "4  https://fr.indeed.com//rc/clk?jk=ed41fb1cfd983...   \n",
       "\n",
       "                                 job_name  \\\n",
       "0              Data Analyst Transport H/F   \n",
       "1                        Data analyst F/H   \n",
       "2                 Junior Data Analyst H/F   \n",
       "3                      Data Analyst (H/F)   \n",
       "4  CDI - Hyperviseur / Data Analyst (F/H)   \n",
       "\n",
       "                                            job_text  \\\n",
       "0  Bouygues Construction Matériel apporte son sav...   \n",
       "1  Détail de l'offre Informations générales Descr...   \n",
       "2  Lectra SA            Junior Data Analyst H/F  ...   \n",
       "3  Lille       CDI        Publiée il y a plus de ...   \n",
       "4  Identifiant de la demande: 31678          Vill...   \n",
       "\n",
       "                      job_company         job_location          job_type  \\\n",
       "0  Bouygues Construction Matériel  Chilly-Mazarin (91)               CDI   \n",
       "1                          ALKERA          Clichy (92)  CDI, Temps plein   \n",
       "2                          Lectra          Cestas (33)               NaN   \n",
       "3                        Infogene           Lille (59)               CDI   \n",
       "4                            GRDF           Paris (75)  CDI, Temps plein   \n",
       "\n",
       "     job_date  \n",
       "0  2024-07-10  \n",
       "1  2024-07-12  \n",
       "2  2024-07-11  \n",
       "3  2024-07-12  \n",
       "4  2024-07-12  "
      ]
     },
     "execution_count": 40,
     "metadata": {},
     "output_type": "execute_result"
    }
   ],
   "source": [
    "data.head()"
   ]
  },
  {
   "cell_type": "code",
   "execution_count": 41,
   "metadata": {},
   "outputs": [
    {
     "data": {
      "text/plain": [
       "(4162, 7)"
      ]
     },
     "execution_count": 41,
     "metadata": {},
     "output_type": "execute_result"
    }
   ],
   "source": [
    "data.shape"
   ]
  },
  {
   "cell_type": "code",
   "execution_count": 42,
   "metadata": {},
   "outputs": [
    {
     "data": {
      "text/plain": [
       "job_link        279\n",
       "job_name        523\n",
       "job_text        303\n",
       "job_company     382\n",
       "job_location    421\n",
       "job_type        383\n",
       "job_date        618\n",
       "dtype: int64"
      ]
     },
     "execution_count": 42,
     "metadata": {},
     "output_type": "execute_result"
    }
   ],
   "source": [
    "data.isna().sum()"
   ]
  },
  {
   "cell_type": "code",
   "execution_count": 43,
   "metadata": {},
   "outputs": [],
   "source": [
    "data.dropna(subset=['job_text'],inplace=True)"
   ]
  },
  {
   "cell_type": "code",
   "execution_count": 44,
   "metadata": {},
   "outputs": [
    {
     "data": {
      "text/html": [
       "<div>\n",
       "<style scoped>\n",
       "    .dataframe tbody tr th:only-of-type {\n",
       "        vertical-align: middle;\n",
       "    }\n",
       "\n",
       "    .dataframe tbody tr th {\n",
       "        vertical-align: top;\n",
       "    }\n",
       "\n",
       "    .dataframe thead th {\n",
       "        text-align: right;\n",
       "    }\n",
       "</style>\n",
       "<table border=\"1\" class=\"dataframe\">\n",
       "  <thead>\n",
       "    <tr style=\"text-align: right;\">\n",
       "      <th></th>\n",
       "      <th>job_link</th>\n",
       "      <th>job_name</th>\n",
       "      <th>job_text</th>\n",
       "      <th>job_company</th>\n",
       "      <th>job_location</th>\n",
       "      <th>job_type</th>\n",
       "      <th>job_date</th>\n",
       "    </tr>\n",
       "  </thead>\n",
       "  <tbody>\n",
       "    <tr>\n",
       "      <th>0</th>\n",
       "      <td>https://fr.indeed.com//rc/clk?jk=f02d26eaa5ee3...</td>\n",
       "      <td>Data Analyst Transport H/F</td>\n",
       "      <td>Bouygues Construction Matériel apporte son sav...</td>\n",
       "      <td>Bouygues Construction Matériel</td>\n",
       "      <td>Chilly-Mazarin (91)</td>\n",
       "      <td>CDI</td>\n",
       "      <td>2024-07-10</td>\n",
       "    </tr>\n",
       "    <tr>\n",
       "      <th>1</th>\n",
       "      <td>https://fr.indeed.com//rc/clk?jk=0793e3b3707f5...</td>\n",
       "      <td>Data analyst F/H</td>\n",
       "      <td>Détail de l'offre Informations générales Descr...</td>\n",
       "      <td>ALKERA</td>\n",
       "      <td>Clichy (92)</td>\n",
       "      <td>CDI, Temps plein</td>\n",
       "      <td>2024-07-12</td>\n",
       "    </tr>\n",
       "    <tr>\n",
       "      <th>2</th>\n",
       "      <td>https://fr.indeed.com//rc/clk?jk=92b3c6db22ecb...</td>\n",
       "      <td>Junior Data Analyst H/F</td>\n",
       "      <td>Lectra SA            Junior Data Analyst H/F  ...</td>\n",
       "      <td>Lectra</td>\n",
       "      <td>Cestas (33)</td>\n",
       "      <td>NaN</td>\n",
       "      <td>2024-07-11</td>\n",
       "    </tr>\n",
       "    <tr>\n",
       "      <th>3</th>\n",
       "      <td>https://fr.indeed.com//rc/clk?jk=965d2d27c6c5e...</td>\n",
       "      <td>Data Analyst (H/F)</td>\n",
       "      <td>Lille       CDI        Publiée il y a plus de ...</td>\n",
       "      <td>Infogene</td>\n",
       "      <td>Lille (59)</td>\n",
       "      <td>CDI</td>\n",
       "      <td>2024-07-12</td>\n",
       "    </tr>\n",
       "    <tr>\n",
       "      <th>4</th>\n",
       "      <td>https://fr.indeed.com//rc/clk?jk=ed41fb1cfd983...</td>\n",
       "      <td>CDI - Hyperviseur / Data Analyst (F/H)</td>\n",
       "      <td>Identifiant de la demande: 31678          Vill...</td>\n",
       "      <td>GRDF</td>\n",
       "      <td>Paris (75)</td>\n",
       "      <td>CDI, Temps plein</td>\n",
       "      <td>2024-07-12</td>\n",
       "    </tr>\n",
       "    <tr>\n",
       "      <th>...</th>\n",
       "      <td>...</td>\n",
       "      <td>...</td>\n",
       "      <td>...</td>\n",
       "      <td>...</td>\n",
       "      <td>...</td>\n",
       "      <td>...</td>\n",
       "      <td>...</td>\n",
       "    </tr>\n",
       "    <tr>\n",
       "      <th>4156</th>\n",
       "      <td>https://fr.linkedin.com/jobs/view/d%C3%A9velop...</td>\n",
       "      <td>Développeur web - (H/F) - En alternance</td>\n",
       "      <td>Description Du PosteApprenez un métier d’aveni...</td>\n",
       "      <td>OpenClassrooms</td>\n",
       "      <td>Romorantin, Centre-Val de Loire, France</td>\n",
       "      <td>Not Applicable</td>\n",
       "      <td>2024-07-11</td>\n",
       "    </tr>\n",
       "    <tr>\n",
       "      <th>4157</th>\n",
       "      <td>https://fr.linkedin.com/jobs/view/ing%C3%A9nie...</td>\n",
       "      <td>Ingénieur DevOps 45 - 60 K€ H/F</td>\n",
       "      <td>MissionVous avez une expérience d'ingénieur DE...</td>\n",
       "      <td>DigitValue</td>\n",
       "      <td>Maritime Alps, Provence-Alpes-Côte d'Azur, France</td>\n",
       "      <td>Entry level</td>\n",
       "      <td>2024-07-11</td>\n",
       "    </tr>\n",
       "    <tr>\n",
       "      <th>4158</th>\n",
       "      <td>https://fr.linkedin.com/jobs/view/ing%C3%A9nie...</td>\n",
       "      <td>Ingénieur IVVQ Cloud H/F</td>\n",
       "      <td>Ingénieur IVVQ Cloud Domaine Bancaire H/FLieu ...</td>\n",
       "      <td>LesJeudis</td>\n",
       "      <td>Gémenos, Provence-Alpes-Côte d'Azur, France</td>\n",
       "      <td>Entry level</td>\n",
       "      <td>2024-07-11</td>\n",
       "    </tr>\n",
       "    <tr>\n",
       "      <th>4159</th>\n",
       "      <td>https://fr.linkedin.com/jobs/view/ing%C3%A9nie...</td>\n",
       "      <td>Ingénieur DevOps junior</td>\n",
       "      <td>En qualité d'ingénieur DevOps, vous développez...</td>\n",
       "      <td>Free-Work</td>\n",
       "      <td>Le Pecq, Île-de-France, France</td>\n",
       "      <td>Entry level</td>\n",
       "      <td>2024-07-08</td>\n",
       "    </tr>\n",
       "    <tr>\n",
       "      <th>4161</th>\n",
       "      <td>https://fr.linkedin.com/jobs/view/analyste-ing...</td>\n",
       "      <td>ANALYSTE / INGENIEUR EN DEVELOPPEMENT DEVOPS (...</td>\n",
       "      <td>Description de l'entrepriseBPCE SI est une ent...</td>\n",
       "      <td>BPCE Solutions informatiques</td>\n",
       "      <td>Dijon, Bourgogne-Franche-Comté, France</td>\n",
       "      <td>Entry level</td>\n",
       "      <td>2024-07-09</td>\n",
       "    </tr>\n",
       "  </tbody>\n",
       "</table>\n",
       "<p>3859 rows × 7 columns</p>\n",
       "</div>"
      ],
      "text/plain": [
       "                                               job_link  \\\n",
       "0     https://fr.indeed.com//rc/clk?jk=f02d26eaa5ee3...   \n",
       "1     https://fr.indeed.com//rc/clk?jk=0793e3b3707f5...   \n",
       "2     https://fr.indeed.com//rc/clk?jk=92b3c6db22ecb...   \n",
       "3     https://fr.indeed.com//rc/clk?jk=965d2d27c6c5e...   \n",
       "4     https://fr.indeed.com//rc/clk?jk=ed41fb1cfd983...   \n",
       "...                                                 ...   \n",
       "4156  https://fr.linkedin.com/jobs/view/d%C3%A9velop...   \n",
       "4157  https://fr.linkedin.com/jobs/view/ing%C3%A9nie...   \n",
       "4158  https://fr.linkedin.com/jobs/view/ing%C3%A9nie...   \n",
       "4159  https://fr.linkedin.com/jobs/view/ing%C3%A9nie...   \n",
       "4161  https://fr.linkedin.com/jobs/view/analyste-ing...   \n",
       "\n",
       "                                               job_name  \\\n",
       "0                            Data Analyst Transport H/F   \n",
       "1                                      Data analyst F/H   \n",
       "2                               Junior Data Analyst H/F   \n",
       "3                                    Data Analyst (H/F)   \n",
       "4                CDI - Hyperviseur / Data Analyst (F/H)   \n",
       "...                                                 ...   \n",
       "4156            Développeur web - (H/F) - En alternance   \n",
       "4157                    Ingénieur DevOps 45 - 60 K€ H/F   \n",
       "4158                           Ingénieur IVVQ Cloud H/F   \n",
       "4159                            Ingénieur DevOps junior   \n",
       "4161  ANALYSTE / INGENIEUR EN DEVELOPPEMENT DEVOPS (...   \n",
       "\n",
       "                                               job_text  \\\n",
       "0     Bouygues Construction Matériel apporte son sav...   \n",
       "1     Détail de l'offre Informations générales Descr...   \n",
       "2     Lectra SA            Junior Data Analyst H/F  ...   \n",
       "3     Lille       CDI        Publiée il y a plus de ...   \n",
       "4     Identifiant de la demande: 31678          Vill...   \n",
       "...                                                 ...   \n",
       "4156  Description Du PosteApprenez un métier d’aveni...   \n",
       "4157  MissionVous avez une expérience d'ingénieur DE...   \n",
       "4158  Ingénieur IVVQ Cloud Domaine Bancaire H/FLieu ...   \n",
       "4159  En qualité d'ingénieur DevOps, vous développez...   \n",
       "4161  Description de l'entrepriseBPCE SI est une ent...   \n",
       "\n",
       "                         job_company  \\\n",
       "0     Bouygues Construction Matériel   \n",
       "1                             ALKERA   \n",
       "2                             Lectra   \n",
       "3                           Infogene   \n",
       "4                               GRDF   \n",
       "...                              ...   \n",
       "4156                  OpenClassrooms   \n",
       "4157                      DigitValue   \n",
       "4158                       LesJeudis   \n",
       "4159                       Free-Work   \n",
       "4161    BPCE Solutions informatiques   \n",
       "\n",
       "                                           job_location          job_type  \\\n",
       "0                                   Chilly-Mazarin (91)               CDI   \n",
       "1                                           Clichy (92)  CDI, Temps plein   \n",
       "2                                           Cestas (33)               NaN   \n",
       "3                                            Lille (59)               CDI   \n",
       "4                                            Paris (75)  CDI, Temps plein   \n",
       "...                                                 ...               ...   \n",
       "4156            Romorantin, Centre-Val de Loire, France    Not Applicable   \n",
       "4157  Maritime Alps, Provence-Alpes-Côte d'Azur, France       Entry level   \n",
       "4158        Gémenos, Provence-Alpes-Côte d'Azur, France       Entry level   \n",
       "4159                     Le Pecq, Île-de-France, France       Entry level   \n",
       "4161             Dijon, Bourgogne-Franche-Comté, France       Entry level   \n",
       "\n",
       "        job_date  \n",
       "0     2024-07-10  \n",
       "1     2024-07-12  \n",
       "2     2024-07-11  \n",
       "3     2024-07-12  \n",
       "4     2024-07-12  \n",
       "...          ...  \n",
       "4156  2024-07-11  \n",
       "4157  2024-07-11  \n",
       "4158  2024-07-11  \n",
       "4159  2024-07-08  \n",
       "4161  2024-07-09  \n",
       "\n",
       "[3859 rows x 7 columns]"
      ]
     },
     "execution_count": 44,
     "metadata": {},
     "output_type": "execute_result"
    }
   ],
   "source": [
    "data"
   ]
  },
  {
   "cell_type": "code",
   "execution_count": 45,
   "metadata": {},
   "outputs": [
    {
     "data": {
      "text/plain": [
       "(3859, 7)"
      ]
     },
     "execution_count": 45,
     "metadata": {},
     "output_type": "execute_result"
    }
   ],
   "source": [
    "data.shape"
   ]
  },
  {
   "cell_type": "code",
   "execution_count": 46,
   "metadata": {},
   "outputs": [
    {
     "data": {
      "text/html": [
       "<div>\n",
       "<style scoped>\n",
       "    .dataframe tbody tr th:only-of-type {\n",
       "        vertical-align: middle;\n",
       "    }\n",
       "\n",
       "    .dataframe tbody tr th {\n",
       "        vertical-align: top;\n",
       "    }\n",
       "\n",
       "    .dataframe thead th {\n",
       "        text-align: right;\n",
       "    }\n",
       "</style>\n",
       "<table border=\"1\" class=\"dataframe\">\n",
       "  <thead>\n",
       "    <tr style=\"text-align: right;\">\n",
       "      <th></th>\n",
       "      <th>job_link</th>\n",
       "      <th>job_name</th>\n",
       "      <th>job_text</th>\n",
       "      <th>job_company</th>\n",
       "      <th>job_location</th>\n",
       "      <th>job_type</th>\n",
       "      <th>job_date</th>\n",
       "    </tr>\n",
       "  </thead>\n",
       "  <tbody>\n",
       "    <tr>\n",
       "      <th>0</th>\n",
       "      <td>https://fr.indeed.com//rc/clk?jk=f02d26eaa5ee3...</td>\n",
       "      <td>Data Analyst Transport H/F</td>\n",
       "      <td>Bouygues Construction Matériel apporte son sav...</td>\n",
       "      <td>Bouygues Construction Matériel</td>\n",
       "      <td>Chilly-Mazarin (91)</td>\n",
       "      <td>CDI</td>\n",
       "      <td>2024-07-10</td>\n",
       "    </tr>\n",
       "    <tr>\n",
       "      <th>1</th>\n",
       "      <td>https://fr.indeed.com//rc/clk?jk=0793e3b3707f5...</td>\n",
       "      <td>Data analyst F/H</td>\n",
       "      <td>Détail de l'offre Informations générales Descr...</td>\n",
       "      <td>ALKERA</td>\n",
       "      <td>Clichy (92)</td>\n",
       "      <td>CDI, Temps plein</td>\n",
       "      <td>2024-07-12</td>\n",
       "    </tr>\n",
       "    <tr>\n",
       "      <th>2</th>\n",
       "      <td>https://fr.indeed.com//rc/clk?jk=92b3c6db22ecb...</td>\n",
       "      <td>Junior Data Analyst H/F</td>\n",
       "      <td>Lectra SA            Junior Data Analyst H/F  ...</td>\n",
       "      <td>Lectra</td>\n",
       "      <td>Cestas (33)</td>\n",
       "      <td>NaN</td>\n",
       "      <td>2024-07-11</td>\n",
       "    </tr>\n",
       "    <tr>\n",
       "      <th>3</th>\n",
       "      <td>https://fr.indeed.com//rc/clk?jk=965d2d27c6c5e...</td>\n",
       "      <td>Data Analyst (H/F)</td>\n",
       "      <td>Lille       CDI        Publiée il y a plus de ...</td>\n",
       "      <td>Infogene</td>\n",
       "      <td>Lille (59)</td>\n",
       "      <td>CDI</td>\n",
       "      <td>2024-07-12</td>\n",
       "    </tr>\n",
       "    <tr>\n",
       "      <th>4</th>\n",
       "      <td>https://fr.indeed.com//rc/clk?jk=ed41fb1cfd983...</td>\n",
       "      <td>CDI - Hyperviseur / Data Analyst (F/H)</td>\n",
       "      <td>Identifiant de la demande: 31678          Vill...</td>\n",
       "      <td>GRDF</td>\n",
       "      <td>Paris (75)</td>\n",
       "      <td>CDI, Temps plein</td>\n",
       "      <td>2024-07-12</td>\n",
       "    </tr>\n",
       "  </tbody>\n",
       "</table>\n",
       "</div>"
      ],
      "text/plain": [
       "                                            job_link  \\\n",
       "0  https://fr.indeed.com//rc/clk?jk=f02d26eaa5ee3...   \n",
       "1  https://fr.indeed.com//rc/clk?jk=0793e3b3707f5...   \n",
       "2  https://fr.indeed.com//rc/clk?jk=92b3c6db22ecb...   \n",
       "3  https://fr.indeed.com//rc/clk?jk=965d2d27c6c5e...   \n",
       "4  https://fr.indeed.com//rc/clk?jk=ed41fb1cfd983...   \n",
       "\n",
       "                                 job_name  \\\n",
       "0              Data Analyst Transport H/F   \n",
       "1                        Data analyst F/H   \n",
       "2                 Junior Data Analyst H/F   \n",
       "3                      Data Analyst (H/F)   \n",
       "4  CDI - Hyperviseur / Data Analyst (F/H)   \n",
       "\n",
       "                                            job_text  \\\n",
       "0  Bouygues Construction Matériel apporte son sav...   \n",
       "1  Détail de l'offre Informations générales Descr...   \n",
       "2  Lectra SA            Junior Data Analyst H/F  ...   \n",
       "3  Lille       CDI        Publiée il y a plus de ...   \n",
       "4  Identifiant de la demande: 31678          Vill...   \n",
       "\n",
       "                      job_company         job_location          job_type  \\\n",
       "0  Bouygues Construction Matériel  Chilly-Mazarin (91)               CDI   \n",
       "1                          ALKERA          Clichy (92)  CDI, Temps plein   \n",
       "2                          Lectra          Cestas (33)               NaN   \n",
       "3                        Infogene           Lille (59)               CDI   \n",
       "4                            GRDF           Paris (75)  CDI, Temps plein   \n",
       "\n",
       "     job_date  \n",
       "0  2024-07-10  \n",
       "1  2024-07-12  \n",
       "2  2024-07-11  \n",
       "3  2024-07-12  \n",
       "4  2024-07-12  "
      ]
     },
     "execution_count": 46,
     "metadata": {},
     "output_type": "execute_result"
    }
   ],
   "source": [
    "data.head()"
   ]
  },
  {
   "cell_type": "code",
   "execution_count": 47,
   "metadata": {},
   "outputs": [
    {
     "data": {
      "text/plain": [
       "job_link          0\n",
       "job_name        220\n",
       "job_text          0\n",
       "job_company      79\n",
       "job_location    118\n",
       "job_type         80\n",
       "job_date        338\n",
       "dtype: int64"
      ]
     },
     "execution_count": 47,
     "metadata": {},
     "output_type": "execute_result"
    }
   ],
   "source": [
    "data.isna().sum()"
   ]
  },
  {
   "cell_type": "code",
   "execution_count": 48,
   "metadata": {},
   "outputs": [],
   "source": [
    "data.dropna(inplace=True)\n",
    "data.reset_index(drop=True, inplace=True)\n"
   ]
  },
  {
   "cell_type": "code",
   "execution_count": 49,
   "metadata": {},
   "outputs": [
    {
     "data": {
      "text/plain": [
       "(3041, 7)"
      ]
     },
     "execution_count": 49,
     "metadata": {},
     "output_type": "execute_result"
    }
   ],
   "source": [
    "data.shape"
   ]
  },
  {
   "cell_type": "code",
   "execution_count": 50,
   "metadata": {},
   "outputs": [
    {
     "data": {
      "text/plain": [
       "job_link        0\n",
       "job_name        0\n",
       "job_text        0\n",
       "job_company     0\n",
       "job_location    0\n",
       "job_type        0\n",
       "job_date        0\n",
       "dtype: int64"
      ]
     },
     "execution_count": 50,
     "metadata": {},
     "output_type": "execute_result"
    }
   ],
   "source": [
    "data.isna().sum()"
   ]
  },
  {
   "cell_type": "code",
   "execution_count": 51,
   "metadata": {},
   "outputs": [],
   "source": [
    "data[\"skills\"] = data[\"job_text\"].str.lower().apply(lambda x: get_skills(x))\n"
   ]
  },
  {
   "cell_type": "code",
   "execution_count": 52,
   "metadata": {},
   "outputs": [
    {
     "data": {
      "text/plain": [
       "Index(['job_link', 'job_name', 'job_text', 'job_company', 'job_location',\n",
       "       'job_type', 'job_date', 'skills'],\n",
       "      dtype='object')"
      ]
     },
     "execution_count": 52,
     "metadata": {},
     "output_type": "execute_result"
    }
   ],
   "source": [
    "data.columns"
   ]
  },
  {
   "cell_type": "code",
   "execution_count": 59,
   "metadata": {},
   "outputs": [
    {
     "data": {
      "text/plain": [
       "job_link        0\n",
       "job_name        0\n",
       "job_text        0\n",
       "job_company     0\n",
       "job_location    0\n",
       "job_type        0\n",
       "job_date        0\n",
       "skills          0\n",
       "dtype: int64"
      ]
     },
     "execution_count": 59,
     "metadata": {},
     "output_type": "execute_result"
    }
   ],
   "source": [
    "data.isna().sum()"
   ]
  },
  {
   "cell_type": "code",
   "execution_count": 65,
   "metadata": {},
   "outputs": [
    {
     "data": {
      "text/plain": [
       "'Decathlon Digital'"
      ]
     },
     "execution_count": 65,
     "metadata": {},
     "output_type": "execute_result"
    }
   ],
   "source": [
    "data['job_text'][1001]"
   ]
  },
  {
   "cell_type": "code",
   "execution_count": 66,
   "metadata": {},
   "outputs": [],
   "source": [
    "data[\"job_type\"] = data[\"job_type\"].str.lower().apply(lambda x: get_type(x))\n"
   ]
  },
  {
   "cell_type": "code",
   "execution_count": 67,
   "metadata": {},
   "outputs": [
    {
     "data": {
      "text/plain": [
       "'Cdi'"
      ]
     },
     "execution_count": 67,
     "metadata": {},
     "output_type": "execute_result"
    }
   ],
   "source": [
    "data['job_type'][1000]"
   ]
  },
  {
   "cell_type": "code",
   "execution_count": 68,
   "metadata": {},
   "outputs": [
    {
     "name": "stdout",
     "output_type": "stream",
     "text": [
      "Le fichier CSV a été créé avec succès sous le nom jobs_data.csv.\n"
     ]
    }
   ],
   "source": [
    "csv_filename = \"jobs_data.csv\"\n",
    "data.to_csv(csv_filename, index=False)\n",
    "print(f\"Le fichier CSV a été créé avec succès sous le nom {csv_filename}.\")\n"
   ]
  },
  {
   "cell_type": "code",
   "execution_count": null,
   "metadata": {},
   "outputs": [],
   "source": []
  }
 ],
 "metadata": {
  "kernelspec": {
   "display_name": "airflow_env",
   "language": "python",
   "name": "python3"
  },
  "language_info": {
   "codemirror_mode": {
    "name": "ipython",
    "version": 3
   },
   "file_extension": ".py",
   "mimetype": "text/x-python",
   "name": "python",
   "nbconvert_exporter": "python",
   "pygments_lexer": "ipython3",
   "version": "3.10.12"
  }
 },
 "nbformat": 4,
 "nbformat_minor": 2
}
