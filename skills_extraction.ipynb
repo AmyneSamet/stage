{
 "cells": [
  {
   "cell_type": "code",
   "execution_count": 2,
   "metadata": {},
   "outputs": [
    {
     "name": "stdout",
     "output_type": "stream",
     "text": [
      "Requirement already satisfied: inference_sdk in /home/amine/airflow_env/lib/python3.10/site-packages (0.14.1)\n",
      "Requirement already satisfied: requests>=2.0.0 in /home/amine/airflow_env/lib/python3.10/site-packages (from inference_sdk) (2.32.3)\n",
      "Requirement already satisfied: dataclasses-json>=0.6.0 in /home/amine/airflow_env/lib/python3.10/site-packages (from inference_sdk) (0.6.7)\n",
      "Requirement already satisfied: opencv-python>=4.8.0.0 in /home/amine/airflow_env/lib/python3.10/site-packages (from inference_sdk) (4.10.0.84)\n",
      "Requirement already satisfied: pillow>=9.0.0 in /home/amine/airflow_env/lib/python3.10/site-packages (from inference_sdk) (10.4.0)\n",
      "Requirement already satisfied: supervision<1.0.0,>=0.20.0 in /home/amine/airflow_env/lib/python3.10/site-packages (from inference_sdk) (0.22.0)\n",
      "Requirement already satisfied: numpy<=1.26.4 in /home/amine/airflow_env/lib/python3.10/site-packages (from inference_sdk) (1.26.4)\n",
      "Requirement already satisfied: aiohttp>=3.9.0 in /home/amine/airflow_env/lib/python3.10/site-packages (from inference_sdk) (3.9.5)\n",
      "Requirement already satisfied: backoff>=2.2.0 in /home/amine/airflow_env/lib/python3.10/site-packages (from inference_sdk) (2.2.1)\n",
      "Requirement already satisfied: aioresponses>=0.7.6 in /home/amine/airflow_env/lib/python3.10/site-packages (from inference_sdk) (0.7.6)\n",
      "Requirement already satisfied: py-cpuinfo>=9.0.0 in /home/amine/airflow_env/lib/python3.10/site-packages (from inference_sdk) (9.0.0)\n",
      "Requirement already satisfied: aiosignal>=1.1.2 in /home/amine/airflow_env/lib/python3.10/site-packages (from aiohttp>=3.9.0->inference_sdk) (1.3.1)\n",
      "Requirement already satisfied: attrs>=17.3.0 in /home/amine/airflow_env/lib/python3.10/site-packages (from aiohttp>=3.9.0->inference_sdk) (23.2.0)\n",
      "Requirement already satisfied: frozenlist>=1.1.1 in /home/amine/airflow_env/lib/python3.10/site-packages (from aiohttp>=3.9.0->inference_sdk) (1.4.1)\n",
      "Requirement already satisfied: multidict<7.0,>=4.5 in /home/amine/airflow_env/lib/python3.10/site-packages (from aiohttp>=3.9.0->inference_sdk) (6.0.5)\n",
      "Requirement already satisfied: yarl<2.0,>=1.0 in /home/amine/airflow_env/lib/python3.10/site-packages (from aiohttp>=3.9.0->inference_sdk) (1.9.4)\n",
      "Requirement already satisfied: async-timeout<5.0,>=4.0 in /home/amine/airflow_env/lib/python3.10/site-packages (from aiohttp>=3.9.0->inference_sdk) (4.0.3)\n",
      "Requirement already satisfied: marshmallow<4.0.0,>=3.18.0 in /home/amine/airflow_env/lib/python3.10/site-packages (from dataclasses-json>=0.6.0->inference_sdk) (3.21.3)\n",
      "Requirement already satisfied: typing-inspect<1,>=0.4.0 in /home/amine/airflow_env/lib/python3.10/site-packages (from dataclasses-json>=0.6.0->inference_sdk) (0.9.0)\n",
      "Requirement already satisfied: charset-normalizer<4,>=2 in /home/amine/airflow_env/lib/python3.10/site-packages (from requests>=2.0.0->inference_sdk) (3.3.2)\n",
      "Requirement already satisfied: idna<4,>=2.5 in /home/amine/airflow_env/lib/python3.10/site-packages (from requests>=2.0.0->inference_sdk) (3.7)\n",
      "Requirement already satisfied: urllib3<3,>=1.21.1 in /home/amine/airflow_env/lib/python3.10/site-packages (from requests>=2.0.0->inference_sdk) (2.2.2)\n",
      "Requirement already satisfied: certifi>=2017.4.17 in /home/amine/airflow_env/lib/python3.10/site-packages (from requests>=2.0.0->inference_sdk) (2024.6.2)\n",
      "Requirement already satisfied: defusedxml<0.8.0,>=0.7.1 in /home/amine/airflow_env/lib/python3.10/site-packages (from supervision<1.0.0,>=0.20.0->inference_sdk) (0.7.1)\n",
      "Requirement already satisfied: matplotlib>=3.6.0 in /home/amine/airflow_env/lib/python3.10/site-packages (from supervision<1.0.0,>=0.20.0->inference_sdk) (3.9.1)\n",
      "Requirement already satisfied: opencv-python-headless>=4.5.5.64 in /home/amine/airflow_env/lib/python3.10/site-packages (from supervision<1.0.0,>=0.20.0->inference_sdk) (4.10.0.84)\n",
      "Requirement already satisfied: pyyaml>=5.3 in /home/amine/airflow_env/lib/python3.10/site-packages (from supervision<1.0.0,>=0.20.0->inference_sdk) (6.0.1)\n",
      "Requirement already satisfied: scipy<2.0.0,>=1.10.0 in /home/amine/airflow_env/lib/python3.10/site-packages (from supervision<1.0.0,>=0.20.0->inference_sdk) (1.14.0)\n",
      "Requirement already satisfied: packaging>=17.0 in /home/amine/airflow_env/lib/python3.10/site-packages (from marshmallow<4.0.0,>=3.18.0->dataclasses-json>=0.6.0->inference_sdk) (24.1)\n",
      "Requirement already satisfied: contourpy>=1.0.1 in /home/amine/airflow_env/lib/python3.10/site-packages (from matplotlib>=3.6.0->supervision<1.0.0,>=0.20.0->inference_sdk) (1.2.1)\n",
      "Requirement already satisfied: cycler>=0.10 in /home/amine/airflow_env/lib/python3.10/site-packages (from matplotlib>=3.6.0->supervision<1.0.0,>=0.20.0->inference_sdk) (0.12.1)\n",
      "Requirement already satisfied: fonttools>=4.22.0 in /home/amine/airflow_env/lib/python3.10/site-packages (from matplotlib>=3.6.0->supervision<1.0.0,>=0.20.0->inference_sdk) (4.53.1)\n",
      "Requirement already satisfied: kiwisolver>=1.3.1 in /home/amine/airflow_env/lib/python3.10/site-packages (from matplotlib>=3.6.0->supervision<1.0.0,>=0.20.0->inference_sdk) (1.4.5)\n",
      "Requirement already satisfied: pyparsing>=2.3.1 in /home/amine/airflow_env/lib/python3.10/site-packages (from matplotlib>=3.6.0->supervision<1.0.0,>=0.20.0->inference_sdk) (3.1.2)\n",
      "Requirement already satisfied: python-dateutil>=2.7 in /home/amine/airflow_env/lib/python3.10/site-packages (from matplotlib>=3.6.0->supervision<1.0.0,>=0.20.0->inference_sdk) (2.9.0.post0)\n",
      "Requirement already satisfied: mypy-extensions>=0.3.0 in /home/amine/airflow_env/lib/python3.10/site-packages (from typing-inspect<1,>=0.4.0->dataclasses-json>=0.6.0->inference_sdk) (1.0.0)\n",
      "Requirement already satisfied: typing-extensions>=3.7.4 in /home/amine/airflow_env/lib/python3.10/site-packages (from typing-inspect<1,>=0.4.0->dataclasses-json>=0.6.0->inference_sdk) (4.12.2)\n",
      "Requirement already satisfied: six>=1.5 in /home/amine/airflow_env/lib/python3.10/site-packages (from python-dateutil>=2.7->matplotlib>=3.6.0->supervision<1.0.0,>=0.20.0->inference_sdk) (1.16.0)\n",
      "\n",
      "\u001b[1m[\u001b[0m\u001b[34;49mnotice\u001b[0m\u001b[1;39;49m]\u001b[0m\u001b[39;49m A new release of pip is available: \u001b[0m\u001b[31;49m24.1.2\u001b[0m\u001b[39;49m -> \u001b[0m\u001b[32;49m24.2\u001b[0m\n",
      "\u001b[1m[\u001b[0m\u001b[34;49mnotice\u001b[0m\u001b[1;39;49m]\u001b[0m\u001b[39;49m To update, run: \u001b[0m\u001b[32;49mpip install --upgrade pip\u001b[0m\n",
      "Note: you may need to restart the kernel to use updated packages.\n"
     ]
    }
   ],
   "source": [
    "pip install inference_sdk"
   ]
  },
  {
   "cell_type": "code",
   "execution_count": 3,
   "metadata": {},
   "outputs": [],
   "source": [
    "from inference_sdk import InferenceHTTPClient\n",
    "\n",
    "import cv2\n",
    "from PIL import Image\n",
    "import pytesseract\n",
    "import fitz"
   ]
  },
  {
   "cell_type": "code",
   "execution_count": 4,
   "metadata": {},
   "outputs": [],
   "source": [
    "CLIENT = InferenceHTTPClient(\n",
    "    api_url=\"https://detect.roboflow.com\",\n",
    "    api_key=\"BIrE2FC1DoCP2tdXB9MA\"\n",
    ")\n",
    "\n",
    "# Define the model ID\n",
    "model_id = \"resume-parser-bchlq/1\"\n"
   ]
  },
  {
   "cell_type": "code",
   "execution_count": 5,
   "metadata": {},
   "outputs": [],
   "source": [
    "def pdf_to_jpg(pdf_path):\n",
    "    pdf_document = fitz.open(pdf_path)\n",
    "    for page_number in range(len(pdf_document)):\n",
    "        page = pdf_document.load_page(page_number)\n",
    "        pix = page.get_pixmap()\n",
    "        img = Image.frombytes(\"RGB\", [pix.width, pix.height], pix.samples)\n",
    "        output_path = f\"cv_{page_number + 1}.jpg\"\n",
    "        img.save(output_path, \"JPEG\")\n",
    "        return output_path\n"
   ]
  },
  {
   "cell_type": "code",
   "execution_count": 6,
   "metadata": {},
   "outputs": [],
   "source": [
    "\n",
    "def extract_skills(image_path):\n",
    "    image_path=pdf_to_jpg(image_path)\n",
    "    # Extract the 'Skills' section from the result\n",
    "    CLIENT = InferenceHTTPClient(\n",
    "    api_url=\"https://detect.roboflow.com\",\n",
    "    api_key=\"BIrE2FC1DoCP2tdXB9MA\"\n",
    ")\n",
    "\n",
    "# Define the model ID\n",
    "\n",
    "    model_id = \"resume-parser-bchlq/1\"\n",
    "\n",
    "    result = CLIENT.infer(image_path, model_id=model_id)\n",
    "\n",
    "    image=cv2.imread(image_path)\n",
    "    skills_section = None\n",
    "    for prediction in result['predictions']:\n",
    "        if prediction['class'] == 'skills':\n",
    "            x = int(prediction['x'] - prediction['width'] / 2)\n",
    "            y = int(prediction['y'] - prediction['height'] / 2)\n",
    "            width = int(prediction['width'])\n",
    "            height = int(prediction['height'])\n",
    "\n",
    "        # Crop the skills section from the image\n",
    "        skills_image = image[y:y+height, x:x+width]\n",
    "\n",
    "        # Convert the image to RGB (needed for Tesseract)\n",
    "        skills_image_rgb = cv2.cvtColor(skills_image, cv2.COLOR_BGR2RGB)\n",
    "        \n",
    "        # Convert to PIL Image for Tesseract\n",
    "        pil_image = Image.fromarray(skills_image_rgb)\n",
    "        \n",
    "        # Use Tesseract to extract text\n",
    "        skills_text = pytesseract.image_to_string(pil_image)\n",
    "\n",
    "        # Print the extracted skills section text\n",
    "        print(\"Extracted Skills Section:\")\n",
    "        print(skills_text)\n",
    "        break\n",
    "    else:\n",
    "        print(\"No 'Skills' section found in the image.\")\n"
   ]
  },
  {
   "cell_type": "code",
   "execution_count": 7,
   "metadata": {},
   "outputs": [
    {
     "name": "stdout",
     "output_type": "stream",
     "text": [
      "Extracted Skills Section:\n",
      "SKILLS\n",
      "\n",
      "Machine Learning\n",
      "\n",
      "Ansible, Apache Airflow\n",
      "\n",
      "Deep Learning (NLP, CNN, RAN)\n",
      "Hadoop, Hbase, Spark\n",
      "\n",
      "Proxmox, VMware, VitualBor, Docker\n",
      "MySQL, PostgreSQL, MongoD8, Hive\n",
      "Python, Java, , Seala\n",
      "\n",
      "Hum, C85, JavaScript, PHP, XML\n",
      "Android Studio\n",
      "\f\n"
     ]
    }
   ],
   "source": [
    "extract_skills(\"cv5.jpeg\")"
   ]
  },
  {
   "cell_type": "code",
   "execution_count": null,
   "metadata": {},
   "outputs": [],
   "source": []
  },
  {
   "cell_type": "code",
   "execution_count": 14,
   "metadata": {},
   "outputs": [],
   "source": [
    "def get_name(image_path):\n",
    "    # Convert PDF to JPG\n",
    "    image_path = pdf_to_jpg(image_path)\n",
    "\n",
    "    # Initialize the Roboflow inference client\n",
    "    CLIENT = InferenceHTTPClient(\n",
    "        api_url=\"https://detect.roboflow.com\",\n",
    "        api_key=\"BIrE2FC1DoCP2tdXB9MA\"\n",
    "    )\n",
    "\n",
    "    # Define the model ID\n",
    "    model_id = \"resume-parser-bchlq/1\"\n",
    "\n",
    "    # Perform inference\n",
    "    result = CLIENT.infer(image_path, model_id=model_id)\n",
    "\n",
    "    # Read the image\n",
    "    image = cv2.imread(image_path)\n",
    "    name_section = None\n",
    "\n",
    "    # Iterate over predictions to find 'Name'\n",
    "    for prediction in result['predictions']:\n",
    "        if prediction['class'] == 'Name':\n",
    "            x = int(prediction['x'] - prediction['width'] / 2)\n",
    "            y = int(prediction['y'] - prediction['height'] / 2)\n",
    "            width = int(prediction['width'])\n",
    "            height = int(prediction['height'])\n",
    "\n",
    "            # Crop the name section from the image\n",
    "            name_image = image[y:y+height, x:x+width]\n",
    "\n",
    "            # Convert the image to RGB (needed for Tesseract)\n",
    "            name_image_rgb = cv2.cvtColor(name_image, cv2.COLOR_BGR2RGB)\n",
    "\n",
    "            # Convert to PIL Image for Tesseract\n",
    "            pil_image = Image.fromarray(name_image_rgb)\n",
    "\n",
    "            # Use Tesseract to extract text\n",
    "            name_text = pytesseract.image_to_string(pil_image)\n",
    "\n",
    "            # Print the extracted name\n",
    "            print(\"Name is:\")\n",
    "            return name_text\n",
    "    else:\n",
    "        print(\"No 'Name' section found\")\n",
    "        return None\n"
   ]
  },
  {
   "cell_type": "code",
   "execution_count": 16,
   "metadata": {},
   "outputs": [
    {
     "name": "stdout",
     "output_type": "stream",
     "text": [
      "Name is:\n",
      "Hassan BARKA BICHARA\n",
      "\f\n"
     ]
    }
   ],
   "source": [
    "print(get_name('cv-1.pdf'))"
   ]
  },
  {
   "cell_type": "code",
   "execution_count": null,
   "metadata": {},
   "outputs": [],
   "source": []
  }
 ],
 "metadata": {
  "kernelspec": {
   "display_name": "airflow_env",
   "language": "python",
   "name": "python3"
  },
  "language_info": {
   "codemirror_mode": {
    "name": "ipython",
    "version": 3
   },
   "file_extension": ".py",
   "mimetype": "text/x-python",
   "name": "python",
   "nbconvert_exporter": "python",
   "pygments_lexer": "ipython3",
   "version": "3.10.12"
  }
 },
 "nbformat": 4,
 "nbformat_minor": 2
}
