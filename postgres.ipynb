{
 "cells": [
  {
   "cell_type": "code",
   "execution_count": 1,
   "metadata": {},
   "outputs": [],
   "source": [
    "import psycopg2\n",
    "import pandas as pd"
   ]
  },
  {
   "cell_type": "code",
   "execution_count": 2,
   "metadata": {},
   "outputs": [],
   "source": [
    "def connect_to_db():\n",
    "    try:\n",
    "        conn = psycopg2.connect(\"host=127.0.0.1 dbname=postgres user=postgres password=aminecss\")\n",
    "        print('DB connected successfully')\n",
    "    except Exception as e:\n",
    "        print(f\"Error connecting to DB: {e}\")\n",
    "        raise\n",
    "    return conn"
   ]
  },
  {
   "cell_type": "code",
   "execution_count": 3,
   "metadata": {},
   "outputs": [],
   "source": [
    "def create_table_db():\n",
    "    try:\n",
    "        conn = connect_to_db()\n",
    "        conn.set_session(autocommit=True)\n",
    "        cursor = conn.cursor()\n",
    "        create_table_sql = '''\n",
    "        CREATE TABLE jobs_data (\n",
    "            id SERIAL PRIMARY KEY,\n",
    "            job_link VARCHAR,\n",
    "            job_name VARCHAR(255),\n",
    "            job_text TEXT,\n",
    "            job_company VARCHAR(255),\n",
    "            job_location VARCHAR(255),\n",
    "            job_type VARCHAR(50),\n",
    "            job_date DATE,\n",
    "            skills VARCHAR\n",
    "        );\n",
    "        '''\n",
    "        try:\n",
    "            cursor.execute(create_table_sql)\n",
    "            print('Table created successfully')\n",
    "        except:\n",
    "            print('Table exists')\n",
    "        conn.close()\n",
    "    except Exception as e:\n",
    "        print(f\"Error creating table: {e}\")\n",
    "        raise\n"
   ]
  },
  {
   "cell_type": "code",
   "execution_count": 4,
   "metadata": {},
   "outputs": [
    {
     "name": "stdout",
     "output_type": "stream",
     "text": [
      "DB connected successfully\n",
      "Table exists\n"
     ]
    }
   ],
   "source": [
    "create_table_db()"
   ]
  },
  {
   "cell_type": "code",
   "execution_count": 7,
   "metadata": {},
   "outputs": [],
   "source": [
    "def insert_job_data_from_csv(csv_file_path):\n",
    "    try:\n",
    "        # Read the CSV file into a DataFrame\n",
    "        df = pd.read_csv(csv_file_path)\n",
    "        conn = connect_to_db()\n",
    "        cursor = conn.cursor()\n",
    "        \n",
    "        # Iterate through the DataFrame and insert each row into the table\n",
    "        i = 0\n",
    "        for _, row in df.iterrows():\n",
    "            insert_sql = '''\n",
    "            INSERT INTO jobs_data (job_link, job_name, job_text, job_company, job_location, job_type, job_date, skills)\n",
    "            VALUES (%s, %s, %s, %s, %s, %s, %s, %s);\n",
    "            '''\n",
    "            cursor.execute(insert_sql, (\n",
    "                row['job_link'], row['job_name'], row['job_text'], row['job_company'],\n",
    "                row['job_location'], row['job_type'], row['job_date'], row['skills']\n",
    "            ))\n",
    "            print(i+1,\"Jobs inserted\",end='\\r')\n",
    "        conn.commit()\n",
    "        print('Data inserted successfully from CSV')\n",
    "        conn.close()\n",
    "    except Exception as e:\n",
    "        print(f\"Error inserting data from CSV: {e}\")\n",
    "        raise\n"
   ]
  },
  {
   "cell_type": "code",
   "execution_count": 9,
   "metadata": {},
   "outputs": [
    {
     "name": "stdout",
     "output_type": "stream",
     "text": [
      "DB connected successfully\n",
      "Data inserted successfully from CSV\n"
     ]
    }
   ],
   "source": [
    "insert_job_data_from_csv('jobs.csv')"
   ]
  },
  {
   "cell_type": "code",
   "execution_count": null,
   "metadata": {},
   "outputs": [],
   "source": []
  }
 ],
 "metadata": {
  "kernelspec": {
   "display_name": "airflow_env",
   "language": "python",
   "name": "python3"
  },
  "language_info": {
   "codemirror_mode": {
    "name": "ipython",
    "version": 3
   },
   "file_extension": ".py",
   "mimetype": "text/x-python",
   "name": "python",
   "nbconvert_exporter": "python",
   "pygments_lexer": "ipython3",
   "version": "3.10.12"
  }
 },
 "nbformat": 4,
 "nbformat_minor": 2
}
