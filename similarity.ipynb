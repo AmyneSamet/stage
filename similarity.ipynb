{
 "cells": [
  {
   "cell_type": "code",
   "execution_count": 3,
   "metadata": {},
   "outputs": [],
   "source": [
    "def get_data():\n",
    "    try:\n",
    "        conn = connect()\n",
    "        cursor = conn.cursor()\n",
    "\n",
    "        fetch_data_sql = \"SELECT job_link, job_name, job_text, job_company, job_location, job_type, job_date, skills FROM jobs_data;\"\n",
    "\n",
    "        try:\n",
    "            cursor.execute(fetch_data_sql)\n",
    "            rows = cursor.fetchall()\n",
    "            colnames = [desc[0] for desc in cursor.description]\n",
    "            df = pd.DataFrame(rows, columns=colnames)\n",
    "\n",
    "            return df\n",
    "\n",
    "        except Exception as ex:\n",
    "            print(f\"An error occurred while fetching data: {ex}\")\n",
    "\n",
    "        finally:\n",
    "            cursor.close()\n",
    "            conn.close()\n",
    "\n",
    "    except Exception as e:\n",
    "        print(f\"Error connecting to the database: {e}\")\n"
   ]
  },
  {
   "cell_type": "code",
   "execution_count": 4,
   "metadata": {},
   "outputs": [],
   "source": [
    "def connect():\n",
    "    try:\n",
    "        conn = psycopg2.connect(\"host=127.0.0.1 dbname=postgres user=postgres password=aminecss\")\n",
    "        print('DB connected successfully')\n",
    "    except Exception as e:\n",
    "        print(f\"Error connecting to DB: {e}\")\n",
    "        raise\n",
    "    return conn"
   ]
  },
  {
   "cell_type": "code",
   "execution_count": 5,
   "metadata": {},
   "outputs": [],
   "source": [
    "import pandas as pd\n",
    "import psycopg2"
   ]
  },
  {
   "cell_type": "code",
   "execution_count": 6,
   "metadata": {},
   "outputs": [
    {
     "name": "stdout",
     "output_type": "stream",
     "text": [
      "DB connected successfully\n"
     ]
    }
   ],
   "source": [
    "df=get_data()"
   ]
  },
  {
   "cell_type": "code",
   "execution_count": 7,
   "metadata": {},
   "outputs": [
    {
     "data": {
      "text/plain": [
       "(12964, 8)"
      ]
     },
     "execution_count": 7,
     "metadata": {},
     "output_type": "execute_result"
    }
   ],
   "source": [
    "df.shape"
   ]
  },
  {
   "cell_type": "code",
   "execution_count": 8,
   "metadata": {},
   "outputs": [
    {
     "data": {
      "text/html": [
       "<div>\n",
       "<style scoped>\n",
       "    .dataframe tbody tr th:only-of-type {\n",
       "        vertical-align: middle;\n",
       "    }\n",
       "\n",
       "    .dataframe tbody tr th {\n",
       "        vertical-align: top;\n",
       "    }\n",
       "\n",
       "    .dataframe thead th {\n",
       "        text-align: right;\n",
       "    }\n",
       "</style>\n",
       "<table border=\"1\" class=\"dataframe\">\n",
       "  <thead>\n",
       "    <tr style=\"text-align: right;\">\n",
       "      <th></th>\n",
       "      <th>job_link</th>\n",
       "      <th>job_name</th>\n",
       "      <th>job_text</th>\n",
       "      <th>job_company</th>\n",
       "      <th>job_location</th>\n",
       "      <th>job_type</th>\n",
       "      <th>job_date</th>\n",
       "      <th>skills</th>\n",
       "    </tr>\n",
       "  </thead>\n",
       "  <tbody>\n",
       "    <tr>\n",
       "      <th>0</th>\n",
       "      <td>https://fr.linkedin.com/jobs/view/freelance-bu...</td>\n",
       "      <td>FREELANCE - Business Analyst SI Gestion des dé...</td>\n",
       "      <td>Description :Notre cabinet recherche un Busine...</td>\n",
       "      <td>Mon Consultant Indépendant</td>\n",
       "      <td>Greater Paris Metropolitan Region</td>\n",
       "      <td>AUTRE</td>\n",
       "      <td>2024-07-18</td>\n",
       "      <td>business sql</td>\n",
       "    </tr>\n",
       "    <tr>\n",
       "      <th>1</th>\n",
       "      <td>https://fr.linkedin.com/jobs/view/mid-senior-t...</td>\n",
       "      <td>Mid/Senior Tester QA</td>\n",
       "      <td>ResponsibilitiesBy joining us, you are guarant...</td>\n",
       "      <td>Virtuos France</td>\n",
       "      <td>Cergy, Île-de-France, France</td>\n",
       "      <td>AUTRE</td>\n",
       "      <td>2024-07-18</td>\n",
       "      <td>mobile software jira game development support ...</td>\n",
       "    </tr>\n",
       "    <tr>\n",
       "      <th>2</th>\n",
       "      <td>https://fr.linkedin.com/jobs/view/freelance-se...</td>\n",
       "      <td>FREELANCE -  Senior Consultant Expert Cyber Se...</td>\n",
       "      <td>Notre cabinet recherche un Senior Consultant E...</td>\n",
       "      <td>Mon Consultant Indépendant</td>\n",
       "      <td>Greater Paris Metropolitan Region</td>\n",
       "      <td>AUTRE</td>\n",
       "      <td>2024-07-18</td>\n",
       "      <td>business support security</td>\n",
       "    </tr>\n",
       "    <tr>\n",
       "      <th>3</th>\n",
       "      <td>https://fr.linkedin.com/jobs/view/un-talent-de...</td>\n",
       "      <td>UN TALENT DE TALEND EST ATTENDU À LYON ! (H/F)</td>\n",
       "      <td>Notre sociétéNext Decision, c'est quoi ?Un Cab...</td>\n",
       "      <td>Next Décision</td>\n",
       "      <td>Lyon, Auvergne-Rhône-Alpes, France</td>\n",
       "      <td>AUTRE</td>\n",
       "      <td>2024-07-18</td>\n",
       "      <td>big data json data quality mode flux crm busin...</td>\n",
       "    </tr>\n",
       "    <tr>\n",
       "      <th>4</th>\n",
       "      <td>https://fr.linkedin.com/jobs/view/ing%C3%A9nie...</td>\n",
       "      <td>Ingénieur Data</td>\n",
       "      <td>Description du Poste: Nous sommes à la recherc...</td>\n",
       "      <td>Free-Work</td>\n",
       "      <td>Île-de-France, France</td>\n",
       "      <td>AUTRE</td>\n",
       "      <td>2024-07-18</td>\n",
       "      <td>azure sql spark databricks server bigquery flu...</td>\n",
       "    </tr>\n",
       "  </tbody>\n",
       "</table>\n",
       "</div>"
      ],
      "text/plain": [
       "                                            job_link  \\\n",
       "0  https://fr.linkedin.com/jobs/view/freelance-bu...   \n",
       "1  https://fr.linkedin.com/jobs/view/mid-senior-t...   \n",
       "2  https://fr.linkedin.com/jobs/view/freelance-se...   \n",
       "3  https://fr.linkedin.com/jobs/view/un-talent-de...   \n",
       "4  https://fr.linkedin.com/jobs/view/ing%C3%A9nie...   \n",
       "\n",
       "                                            job_name  \\\n",
       "0  FREELANCE - Business Analyst SI Gestion des dé...   \n",
       "1                               Mid/Senior Tester QA   \n",
       "2  FREELANCE -  Senior Consultant Expert Cyber Se...   \n",
       "3     UN TALENT DE TALEND EST ATTENDU À LYON ! (H/F)   \n",
       "4                                     Ingénieur Data   \n",
       "\n",
       "                                            job_text  \\\n",
       "0  Description :Notre cabinet recherche un Busine...   \n",
       "1  ResponsibilitiesBy joining us, you are guarant...   \n",
       "2  Notre cabinet recherche un Senior Consultant E...   \n",
       "3  Notre sociétéNext Decision, c'est quoi ?Un Cab...   \n",
       "4  Description du Poste: Nous sommes à la recherc...   \n",
       "\n",
       "                  job_company                        job_location job_type  \\\n",
       "0  Mon Consultant Indépendant   Greater Paris Metropolitan Region    AUTRE   \n",
       "1              Virtuos France        Cergy, Île-de-France, France    AUTRE   \n",
       "2  Mon Consultant Indépendant   Greater Paris Metropolitan Region    AUTRE   \n",
       "3               Next Décision  Lyon, Auvergne-Rhône-Alpes, France    AUTRE   \n",
       "4                   Free-Work               Île-de-France, France    AUTRE   \n",
       "\n",
       "     job_date                                             skills  \n",
       "0  2024-07-18                                       business sql  \n",
       "1  2024-07-18  mobile software jira game development support ...  \n",
       "2  2024-07-18                          business support security  \n",
       "3  2024-07-18  big data json data quality mode flux crm busin...  \n",
       "4  2024-07-18  azure sql spark databricks server bigquery flu...  "
      ]
     },
     "execution_count": 8,
     "metadata": {},
     "output_type": "execute_result"
    }
   ],
   "source": [
    "df.head()"
   ]
  },
  {
   "cell_type": "code",
   "execution_count": 9,
   "metadata": {},
   "outputs": [
    {
     "data": {
      "text/plain": [
       "'vue sql oracle powerbi finance documentation interaction data analysis business intelligence power bi business data modeling git support database'"
      ]
     },
     "execution_count": 9,
     "metadata": {},
     "output_type": "execute_result"
    }
   ],
   "source": [
    "df['skills'][1000]"
   ]
  },
  {
   "cell_type": "code",
   "execution_count": 10,
   "metadata": {},
   "outputs": [],
   "source": [
    "x=df['skills']"
   ]
  },
  {
   "cell_type": "code",
   "execution_count": 11,
   "metadata": {},
   "outputs": [],
   "source": [
    "import cv_parser as cv"
   ]
  },
  {
   "cell_type": "code",
   "execution_count": 12,
   "metadata": {},
   "outputs": [],
   "source": [
    "import sklearn"
   ]
  },
  {
   "cell_type": "code",
   "execution_count": 12,
   "metadata": {},
   "outputs": [
    {
     "name": "stdout",
     "output_type": "stream",
     "text": [
      "Requirement already satisfied: scikit-learn in /home/amine/airflow_env/lib/python3.10/site-packages (1.5.1)\n",
      "Requirement already satisfied: numpy>=1.19.5 in /home/amine/airflow_env/lib/python3.10/site-packages (from scikit-learn) (1.26.4)\n",
      "Requirement already satisfied: scipy>=1.6.0 in /home/amine/airflow_env/lib/python3.10/site-packages (from scikit-learn) (1.14.0)\n",
      "Requirement already satisfied: joblib>=1.2.0 in /home/amine/airflow_env/lib/python3.10/site-packages (from scikit-learn) (1.4.2)\n",
      "Requirement already satisfied: threadpoolctl>=3.1.0 in /home/amine/airflow_env/lib/python3.10/site-packages (from scikit-learn) (3.5.0)\n",
      "Note: you may need to restart the kernel to use updated packages.\n"
     ]
    }
   ],
   "source": [
    "pip install scikit-learn\n"
   ]
  },
  {
   "cell_type": "code",
   "execution_count": 14,
   "metadata": {},
   "outputs": [],
   "source": [
    "skills_cv=cv.get_skills_cv('cv5.jpeg')"
   ]
  },
  {
   "cell_type": "code",
   "execution_count": 15,
   "metadata": {},
   "outputs": [
    {
     "name": "stdout",
     "output_type": "stream",
     "text": [
      "SKILLS\n",
      "\n",
      "Machine Learning\n",
      "\n",
      "Ansible, Apache Airflow\n",
      "\n",
      "Deep Learning (NLP, CNN, RAN)\n",
      "Hadoop, Hbase, Spark\n",
      "\n",
      "Proxmox, VMware, VitualBor, Docker\n",
      "MySQL, PostgreSQL, MongoD8, Hive\n",
      "Python, Java, , Seala\n",
      "\n",
      "Hum, C85, JavaScript, PHP, XML\n",
      "Android Studio\n",
      "\f\n"
     ]
    }
   ],
   "source": [
    "print(skills_cv)"
   ]
  },
  {
   "cell_type": "code",
   "execution_count": 16,
   "metadata": {},
   "outputs": [],
   "source": [
    "x=df['skills']"
   ]
  },
  {
   "cell_type": "code",
   "execution_count": 17,
   "metadata": {},
   "outputs": [],
   "source": [
    "from sklearn.feature_extraction.text import TfidfVectorizer\n",
    "\n",
    "skills_cv_list = [skills_cv]\n",
    "\n",
    "job_skills_list = df['skills'].tolist()\n",
    "\n",
    "all_skills = skills_cv_list + job_skills_list\n",
    "\n",
    "vectorizer = TfidfVectorizer()\n",
    "vectorizer.fit(all_skills)\n",
    "\n",
    "cv_vector = vectorizer.transform(skills_cv_list)\n",
    "job_vectors = vectorizer.transform(job_skills_list)\n"
   ]
  },
  {
   "cell_type": "code",
   "execution_count": 33,
   "metadata": {},
   "outputs": [
    {
     "name": "stdout",
     "output_type": "stream",
     "text": [
      "Collecting nltk\n",
      "  Downloading nltk-3.8.1-py3-none-any.whl.metadata (2.8 kB)\n",
      "Requirement already satisfied: click in /home/amine/airflow_env/lib/python3.10/site-packages (from nltk) (8.1.7)\n",
      "Requirement already satisfied: joblib in /home/amine/airflow_env/lib/python3.10/site-packages (from nltk) (1.4.2)\n",
      "Requirement already satisfied: regex>=2021.8.3 in /home/amine/airflow_env/lib/python3.10/site-packages (from nltk) (2024.7.24)\n",
      "Requirement already satisfied: tqdm in /home/amine/airflow_env/lib/python3.10/site-packages (from nltk) (4.66.4)\n",
      "Downloading nltk-3.8.1-py3-none-any.whl (1.5 MB)\n",
      "\u001b[2K   \u001b[90m━━━━━━━━━━━━━━━━━━━━━━━━━━━━━━━━━━━━━━━━\u001b[0m \u001b[32m1.5/1.5 MB\u001b[0m \u001b[31m1.7 MB/s\u001b[0m eta \u001b[36m0:00:00\u001b[0m00:01\u001b[0m00:01\u001b[0m0m\n",
      "\u001b[?25hInstalling collected packages: nltk\n",
      "Successfully installed nltk-3.8.1\n",
      "Note: you may need to restart the kernel to use updated packages.\n"
     ]
    }
   ],
   "source": [
    "pip install nltk"
   ]
  },
  {
   "cell_type": "code",
   "execution_count": 18,
   "metadata": {},
   "outputs": [],
   "source": [
    "def preprocess_text(text):\n",
    "    text=text.replace(',',' ')\n",
    "    text=text.replace('\\n',' ' )    \n",
    "    return text\n"
   ]
  },
  {
   "cell_type": "code",
   "execution_count": 90,
   "metadata": {},
   "outputs": [
    {
     "data": {
      "text/plain": [
       "0                                            business sql\n",
       "1       mobile software jira game development support ...\n",
       "2                               business support security\n",
       "3       big data json data quality mode flux crm busin...\n",
       "4       azure sql spark databricks server bigquery flu...\n",
       "                              ...                        \n",
       "5643    java fastlane collaboration android gitlab ci ...\n",
       "5644                                support collaboration\n",
       "5645    git node.js elasticsearch azure postgresql mob...\n",
       "5646                                  mobile angular java\n",
       "5647    symfony docker elasticsearch collaboration jav...\n",
       "Name: skills, Length: 5648, dtype: object"
      ]
     },
     "execution_count": 90,
     "metadata": {},
     "output_type": "execute_result"
    }
   ],
   "source": [
    "df['skills']"
   ]
  },
  {
   "cell_type": "code",
   "execution_count": 22,
   "metadata": {},
   "outputs": [],
   "source": [
    "from sklearn.metrics.pairwise import cosine_similarity\n"
   ]
  },
  {
   "cell_type": "code",
   "execution_count": 23,
   "metadata": {},
   "outputs": [
    {
     "data": {
      "text/html": [
       "<div>\n",
       "<style scoped>\n",
       "    .dataframe tbody tr th:only-of-type {\n",
       "        vertical-align: middle;\n",
       "    }\n",
       "\n",
       "    .dataframe tbody tr th {\n",
       "        vertical-align: top;\n",
       "    }\n",
       "\n",
       "    .dataframe thead th {\n",
       "        text-align: right;\n",
       "    }\n",
       "</style>\n",
       "<table border=\"1\" class=\"dataframe\">\n",
       "  <thead>\n",
       "    <tr style=\"text-align: right;\">\n",
       "      <th></th>\n",
       "      <th>job_name</th>\n",
       "      <th>job_link</th>\n",
       "      <th>skills</th>\n",
       "      <th>score</th>\n",
       "    </tr>\n",
       "  </thead>\n",
       "  <tbody>\n",
       "    <tr>\n",
       "      <th>5783</th>\n",
       "      <td>Data Scientist - Innovation / Digital / Projet...</td>\n",
       "      <td>https://fr.linkedin.com/jobs/view/data-scienti...</td>\n",
       "      <td>nlp commerce machine learning data science fon...</td>\n",
       "      <td>0.259619</td>\n",
       "    </tr>\n",
       "    <tr>\n",
       "      <th>2918</th>\n",
       "      <td>ingénieur big data expérimenté (h/f)</td>\n",
       "      <td>https://fr.linkedin.com/jobs/view/ing%C3%A9nie...</td>\n",
       "      <td>hadoop  java  collaboration  devops  hive  spa...</td>\n",
       "      <td>0.247838</td>\n",
       "    </tr>\n",
       "    <tr>\n",
       "      <th>5768</th>\n",
       "      <td>Data Scientist - Lille</td>\n",
       "      <td>https://fr.linkedin.com/jobs/view/data-scienti...</td>\n",
       "      <td>nlp azure machine learning data science busine...</td>\n",
       "      <td>0.231428</td>\n",
       "    </tr>\n",
       "    <tr>\n",
       "      <th>6298</th>\n",
       "      <td>Data Scientist - Toulouse</td>\n",
       "      <td>https://fr.indeed.com//rc/clk?jk=8a0e220e7630c...</td>\n",
       "      <td>nlp azure machine learning data science busine...</td>\n",
       "      <td>0.231428</td>\n",
       "    </tr>\n",
       "    <tr>\n",
       "      <th>5743</th>\n",
       "      <td>Data Scientist - Toulouse</td>\n",
       "      <td>https://fr.linkedin.com/jobs/view/data-scienti...</td>\n",
       "      <td>nlp azure machine learning data science busine...</td>\n",
       "      <td>0.231428</td>\n",
       "    </tr>\n",
       "    <tr>\n",
       "      <th>5759</th>\n",
       "      <td>Data Scientist H/F</td>\n",
       "      <td>https://fr.linkedin.com/jobs/view/data-scienti...</td>\n",
       "      <td>marketing deep learning python machine learning</td>\n",
       "      <td>0.231279</td>\n",
       "    </tr>\n",
       "    <tr>\n",
       "      <th>12049</th>\n",
       "      <td>DATA ENGINEER CLOUD H/F</td>\n",
       "      <td>https://fr.linkedin.com/jobs/view/data-enginee...</td>\n",
       "      <td>monitoring blockchain python machine learning ...</td>\n",
       "      <td>0.230892</td>\n",
       "    </tr>\n",
       "    <tr>\n",
       "      <th>9855</th>\n",
       "      <td>DATA ENGINEER CLOUD H/F</td>\n",
       "      <td>https://fr.linkedin.com/jobs/view/data-enginee...</td>\n",
       "      <td>nlp hadoop machine learning monitoring enginee...</td>\n",
       "      <td>0.230892</td>\n",
       "    </tr>\n",
       "    <tr>\n",
       "      <th>10802</th>\n",
       "      <td>DATA ENGINEER CLOUD H/F</td>\n",
       "      <td>https://fr.linkedin.com/jobs/view/data-enginee...</td>\n",
       "      <td>flux engineering deep learning big data nlp ha...</td>\n",
       "      <td>0.230892</td>\n",
       "    </tr>\n",
       "    <tr>\n",
       "      <th>10541</th>\n",
       "      <td>développement en IA Python Senior (IT) / Freel...</td>\n",
       "      <td>https://fr.linkedin.com/jobs/view/d%C3%A9velop...</td>\n",
       "      <td>deep learning support pytorch nlp python machi...</td>\n",
       "      <td>0.230414</td>\n",
       "    </tr>\n",
       "    <tr>\n",
       "      <th>11727</th>\n",
       "      <td>développement en IA Python Senior (IT) / Freel...</td>\n",
       "      <td>https://fr.linkedin.com/jobs/view/d%C3%A9velop...</td>\n",
       "      <td>tensorflow python machine learning support nlp...</td>\n",
       "      <td>0.230414</td>\n",
       "    </tr>\n",
       "    <tr>\n",
       "      <th>9619</th>\n",
       "      <td>développement en IA Python Senior (IT) / Freel...</td>\n",
       "      <td>https://fr.linkedin.com/jobs/view/d%C3%A9velop...</td>\n",
       "      <td>nlp machine learning pytorch python deep learn...</td>\n",
       "      <td>0.230414</td>\n",
       "    </tr>\n",
       "    <tr>\n",
       "      <th>915</th>\n",
       "      <td>Consultant d'Application - H/F - Paris - Issy-...</td>\n",
       "      <td>https://fr.indeed.com//rc/clk?jk=1b89d368ed7a9...</td>\n",
       "      <td>azure deep learning spark gcp nlp python aws d...</td>\n",
       "      <td>0.228666</td>\n",
       "    </tr>\n",
       "    <tr>\n",
       "      <th>1517</th>\n",
       "      <td>Consultant d'Application - H/F - Paris - Issy-...</td>\n",
       "      <td>https://fr.indeed.com//rc/clk?jk=1b89d368ed7a9...</td>\n",
       "      <td>nlp business deep learning cloud machine learn...</td>\n",
       "      <td>0.228666</td>\n",
       "    </tr>\n",
       "    <tr>\n",
       "      <th>501</th>\n",
       "      <td>Data Scientist - Nantes</td>\n",
       "      <td>https://fr.indeed.com//rc/clk?jk=d7a4a0e23bf20...</td>\n",
       "      <td>azure deep learning spark gcp nlp python aws d...</td>\n",
       "      <td>0.228666</td>\n",
       "    </tr>\n",
       "    <tr>\n",
       "      <th>1424</th>\n",
       "      <td>Data Scientist - Nantes</td>\n",
       "      <td>https://fr.indeed.com//rc/clk?jk=174c1b0143b42...</td>\n",
       "      <td>nlp business deep learning cloud machine learn...</td>\n",
       "      <td>0.228666</td>\n",
       "    </tr>\n",
       "    <tr>\n",
       "      <th>1078</th>\n",
       "      <td>Data Scientist - Toulouse</td>\n",
       "      <td>https://fr.linkedin.com/jobs/view/data-scienti...</td>\n",
       "      <td>nlp business deep learning cloud machine learn...</td>\n",
       "      <td>0.228666</td>\n",
       "    </tr>\n",
       "    <tr>\n",
       "      <th>6017</th>\n",
       "      <td>Développeur(se) en Intelligence Artificielle F/H</td>\n",
       "      <td>https://fr.linkedin.com/jobs/view/d%C3%A9velop...</td>\n",
       "      <td>python chef deep learning machine learning</td>\n",
       "      <td>0.227390</td>\n",
       "    </tr>\n",
       "    <tr>\n",
       "      <th>11986</th>\n",
       "      <td>Data Engineer Confirmé – SAAS</td>\n",
       "      <td>https://fr.linkedin.com/jobs/view/data-enginee...</td>\n",
       "      <td>nlp python machine learning collaboration</td>\n",
       "      <td>0.225145</td>\n",
       "    </tr>\n",
       "    <tr>\n",
       "      <th>6935</th>\n",
       "      <td>Data Engineer Confirmé – SAAS</td>\n",
       "      <td>https://fr.linkedin.com/jobs/view/data-enginee...</td>\n",
       "      <td>nlp python collaboration machine learning</td>\n",
       "      <td>0.225145</td>\n",
       "    </tr>\n",
       "  </tbody>\n",
       "</table>\n",
       "</div>"
      ],
      "text/plain": [
       "                                                job_name  \\\n",
       "5783   Data Scientist - Innovation / Digital / Projet...   \n",
       "2918                ingénieur big data expérimenté (h/f)   \n",
       "5768                              Data Scientist - Lille   \n",
       "6298                           Data Scientist - Toulouse   \n",
       "5743                           Data Scientist - Toulouse   \n",
       "5759                                  Data Scientist H/F   \n",
       "12049                            DATA ENGINEER CLOUD H/F   \n",
       "9855                             DATA ENGINEER CLOUD H/F   \n",
       "10802                            DATA ENGINEER CLOUD H/F   \n",
       "10541  développement en IA Python Senior (IT) / Freel...   \n",
       "11727  développement en IA Python Senior (IT) / Freel...   \n",
       "9619   développement en IA Python Senior (IT) / Freel...   \n",
       "915    Consultant d'Application - H/F - Paris - Issy-...   \n",
       "1517   Consultant d'Application - H/F - Paris - Issy-...   \n",
       "501                              Data Scientist - Nantes   \n",
       "1424                             Data Scientist - Nantes   \n",
       "1078                           Data Scientist - Toulouse   \n",
       "6017    Développeur(se) en Intelligence Artificielle F/H   \n",
       "11986                      Data Engineer Confirmé – SAAS   \n",
       "6935                       Data Engineer Confirmé – SAAS   \n",
       "\n",
       "                                                job_link  \\\n",
       "5783   https://fr.linkedin.com/jobs/view/data-scienti...   \n",
       "2918   https://fr.linkedin.com/jobs/view/ing%C3%A9nie...   \n",
       "5768   https://fr.linkedin.com/jobs/view/data-scienti...   \n",
       "6298   https://fr.indeed.com//rc/clk?jk=8a0e220e7630c...   \n",
       "5743   https://fr.linkedin.com/jobs/view/data-scienti...   \n",
       "5759   https://fr.linkedin.com/jobs/view/data-scienti...   \n",
       "12049  https://fr.linkedin.com/jobs/view/data-enginee...   \n",
       "9855   https://fr.linkedin.com/jobs/view/data-enginee...   \n",
       "10802  https://fr.linkedin.com/jobs/view/data-enginee...   \n",
       "10541  https://fr.linkedin.com/jobs/view/d%C3%A9velop...   \n",
       "11727  https://fr.linkedin.com/jobs/view/d%C3%A9velop...   \n",
       "9619   https://fr.linkedin.com/jobs/view/d%C3%A9velop...   \n",
       "915    https://fr.indeed.com//rc/clk?jk=1b89d368ed7a9...   \n",
       "1517   https://fr.indeed.com//rc/clk?jk=1b89d368ed7a9...   \n",
       "501    https://fr.indeed.com//rc/clk?jk=d7a4a0e23bf20...   \n",
       "1424   https://fr.indeed.com//rc/clk?jk=174c1b0143b42...   \n",
       "1078   https://fr.linkedin.com/jobs/view/data-scienti...   \n",
       "6017   https://fr.linkedin.com/jobs/view/d%C3%A9velop...   \n",
       "11986  https://fr.linkedin.com/jobs/view/data-enginee...   \n",
       "6935   https://fr.linkedin.com/jobs/view/data-enginee...   \n",
       "\n",
       "                                                  skills     score  \n",
       "5783   nlp commerce machine learning data science fon...  0.259619  \n",
       "2918   hadoop  java  collaboration  devops  hive  spa...  0.247838  \n",
       "5768   nlp azure machine learning data science busine...  0.231428  \n",
       "6298   nlp azure machine learning data science busine...  0.231428  \n",
       "5743   nlp azure machine learning data science busine...  0.231428  \n",
       "5759     marketing deep learning python machine learning  0.231279  \n",
       "12049  monitoring blockchain python machine learning ...  0.230892  \n",
       "9855   nlp hadoop machine learning monitoring enginee...  0.230892  \n",
       "10802  flux engineering deep learning big data nlp ha...  0.230892  \n",
       "10541  deep learning support pytorch nlp python machi...  0.230414  \n",
       "11727  tensorflow python machine learning support nlp...  0.230414  \n",
       "9619   nlp machine learning pytorch python deep learn...  0.230414  \n",
       "915    azure deep learning spark gcp nlp python aws d...  0.228666  \n",
       "1517   nlp business deep learning cloud machine learn...  0.228666  \n",
       "501    azure deep learning spark gcp nlp python aws d...  0.228666  \n",
       "1424   nlp business deep learning cloud machine learn...  0.228666  \n",
       "1078   nlp business deep learning cloud machine learn...  0.228666  \n",
       "6017          python chef deep learning machine learning  0.227390  \n",
       "11986          nlp python machine learning collaboration  0.225145  \n",
       "6935           nlp python collaboration machine learning  0.225145  "
      ]
     },
     "execution_count": 23,
     "metadata": {},
     "output_type": "execute_result"
    }
   ],
   "source": [
    "def recommend_jobs(df, skills_cv, top_n=100):\n",
    "    # Prepare the lists of skills\n",
    "    df['skills'] = df['skills'].apply(preprocess_text)\n",
    "    skills_cv= preprocess_text(skills_cv)\n",
    "    job_skills_list = df['skills'].tolist()\n",
    "    skills_cv_list = [skills_cv]\n",
    "\n",
    "\n",
    "    all_skills = skills_cv_list + job_skills_list\n",
    "\n",
    "    # Vectorize the skills\n",
    "    vectorizer = TfidfVectorizer()\n",
    "    vectorizer.fit(all_skills)\n",
    "    cv_vector = vectorizer.transform(skills_cv_list)\n",
    "    job_vectors = vectorizer.transform(job_skills_list)\n",
    "\n",
    "    # Compute similarity scores\n",
    "    similarity_scores = cosine_similarity(cv_vector, job_vectors).flatten()\n",
    "    \n",
    "    # Get the top N job indices based on similarity scores\n",
    "    top_indices = similarity_scores.argsort()[-top_n:][::-1]\n",
    "    \n",
    "    # Extract the recommended job names and their corresponding scores\n",
    "    recommendations = df.iloc[top_indices][['job_name','job_link', 'skills']].copy()\n",
    "    recommendations['score'] = similarity_scores[top_indices]\n",
    "    \n",
    "    return recommendations\n",
    "\n",
    "\n",
    "\n",
    "top_jobs = recommend_jobs(df, skills_cv, top_n=20)\n",
    "top_jobs\n",
    "#Best MODEL "
   ]
  },
  {
   "cell_type": "code",
   "execution_count": 20,
   "metadata": {},
   "outputs": [
    {
     "ename": "NameError",
     "evalue": "name 'top_jobs' is not defined",
     "output_type": "error",
     "traceback": [
      "\u001b[0;31m---------------------------------------------------------------------------\u001b[0m",
      "\u001b[0;31mNameError\u001b[0m                                 Traceback (most recent call last)",
      "Cell \u001b[0;32mIn[20], line 1\u001b[0m\n\u001b[0;32m----> 1\u001b[0m \u001b[43mtop_jobs\u001b[49m[\u001b[38;5;124m'\u001b[39m\u001b[38;5;124mskills\u001b[39m\u001b[38;5;124m'\u001b[39m]\n",
      "\u001b[0;31mNameError\u001b[0m: name 'top_jobs' is not defined"
     ]
    }
   ],
   "source": [
    "top_jobs['skills']"
   ]
  },
  {
   "cell_type": "code",
   "execution_count": 63,
   "metadata": {},
   "outputs": [
    {
     "ename": "NameError",
     "evalue": "name 'SentenceTransformer' is not defined",
     "output_type": "error",
     "traceback": [
      "\u001b[0;31m---------------------------------------------------------------------------\u001b[0m",
      "\u001b[0;31mNameError\u001b[0m                                 Traceback (most recent call last)",
      "Cell \u001b[0;32mIn[63], line 1\u001b[0m\n\u001b[0;32m----> 1\u001b[0m model \u001b[38;5;241m=\u001b[39m \u001b[43mSentenceTransformer\u001b[49m(\u001b[38;5;124m'\u001b[39m\u001b[38;5;124mduongttr/job-candidiate-matching-sentbert\u001b[39m\u001b[38;5;124m'\u001b[39m)\n",
      "\u001b[0;31mNameError\u001b[0m: name 'SentenceTransformer' is not defined"
     ]
    }
   ],
   "source": [
    "model = SentenceTransformer('duongttr/job-candidiate-matching-sentbert')\n"
   ]
  },
  {
   "cell_type": "code",
   "execution_count": 60,
   "metadata": {},
   "outputs": [],
   "source": [
    "def calculate_similarity(cv_skills, job_skills):\n",
    "\n",
    "\n",
    "  # Obtenir les embeddings pour les deux textes\n",
    "  embedding1 = model.encode(cv_skills, convert_to_tensor=True)\n",
    "  embedding2 = model.encode(job_skills, convert_to_tensor=True)\n",
    "\n",
    "  # Calculer la similarité cosinus entre les embeddings\n",
    "  cosine_score = util.pytorch_cos_sim(embedding1, embedding2)\n",
    "\n",
    "  # Convertir le tenseur en nombre flottant simple pour obtenir un score compris entre -1 et 1\n",
    "  similarity_score = cosine_score.item()\n",
    "\n",
    "  # Convertir le score en un pourcentage (score entre 0 et 100)\n",
    "  similarity_percentage = similarity_score  * 100\n",
    "\n",
    "  # Afficher le résultat\n",
    "  return similarity_percentage\n",
    "\n",
    "\n",
    "\n"
   ]
  },
  {
   "cell_type": "code",
   "execution_count": 70,
   "metadata": {},
   "outputs": [],
   "source": [
    "def rank_cvs(path, df):\n",
    "    ranked_cvs = []\n",
    "    cv_skills = cv.get_skills_cv(path)\n",
    "    job_skills = df['skills']\n",
    "\n",
    "    for job_skill in job_skills:\n",
    "        similarity = calculate_similarity(job_skill, cv_skills)\n",
    "        ranked_cvs.append((job_skill, similarity))\n",
    "\n",
    "    ranked_cvs = sorted(ranked_cvs, key=lambda x: x[1], reverse=True)\n",
    "    return ranked_cvs\n"
   ]
  },
  {
   "cell_type": "code",
   "execution_count": 71,
   "metadata": {},
   "outputs": [
    {
     "name": "stdout",
     "output_type": "stream",
     "text": [
      "Extracted Skills Section:\n",
      "[('azure sql spark databricks server bigquery flux power bi support devops cloud dataviz', 62.26556897163391), ('business sql', 27.442309260368347), ('big data json data quality mode flux crm business support cloud', 26.559779047966003), ('business support security', 16.835007071495056), ('mobile software jira game development support engineering', -28.586935997009277)]\n"
     ]
    }
   ],
   "source": [
    "df = pd.read_csv('jobs.csv')\n",
    "df = df.head(5)\n",
    "ranked_cvs = rank_cvs('cv1.jpeg', df)\n",
    "print(ranked_cvs)\n"
   ]
  },
  {
   "cell_type": "code",
   "execution_count": 24,
   "metadata": {},
   "outputs": [
    {
     "name": "stdout",
     "output_type": "stream",
     "text": [
      "                                                job_link  \\\n",
      "0      https://fr.linkedin.com/jobs/view/freelance-bu...   \n",
      "1      https://fr.linkedin.com/jobs/view/mid-senior-t...   \n",
      "2      https://fr.linkedin.com/jobs/view/freelance-se...   \n",
      "3      https://fr.linkedin.com/jobs/view/un-talent-de...   \n",
      "4      https://fr.linkedin.com/jobs/view/ing%C3%A9nie...   \n",
      "...                                                  ...   \n",
      "12959  https://fr.indeed.com//rc/clk?jk=6822ee3ffd4ba...   \n",
      "12960  https://fr.indeed.com//rc/clk?jk=39acd9732548d...   \n",
      "12961  https://fr.indeed.com//rc/clk?jk=68ecd10e4cb47...   \n",
      "12962  https://fr.indeed.com//rc/clk?jk=ec791776484f6...   \n",
      "12963  https://fr.indeed.com//rc/clk?jk=f653e589bbbef...   \n",
      "\n",
      "                                                job_name  \\\n",
      "0      FREELANCE - Business Analyst SI Gestion des dé...   \n",
      "1                                   Mid/Senior Tester QA   \n",
      "2      FREELANCE -  Senior Consultant Expert Cyber Se...   \n",
      "3         UN TALENT DE TALEND EST ATTENDU À LYON ! (H/F)   \n",
      "4                                         Ingénieur Data   \n",
      "...                                                  ...   \n",
      "12959  Développeur/se Expert – Java Fullstack - Energ...   \n",
      "12960                            Développeur Android F/H   \n",
      "12961           Analyste - développeur RPG IBMi (AS/400)   \n",
      "12962                    Développeur Java H/F (CNA-0139)   \n",
      "12963  Analog / Mixed-Signal Senior Application Engin...   \n",
      "\n",
      "                                                job_text  \\\n",
      "0      Description :Notre cabinet recherche un Busine...   \n",
      "1      ResponsibilitiesBy joining us, you are guarant...   \n",
      "2      Notre cabinet recherche un Senior Consultant E...   \n",
      "3      Notre sociétéNext Decision, c'est quoi ?Un Cab...   \n",
      "4      Description du Poste: Nous sommes à la recherc...   \n",
      "...                                                  ...   \n",
      "12959  Description de l'entreprise Sopra Steria, acte...   \n",
      "12960  En 10 ans, notre équipe Digital Factory compos...   \n",
      "12961  Rejoignez Infitex en tant qu’Analyste Développ...   \n",
      "12962  Innovation, belle ambiance et projets stimulan...   \n",
      "12963  Our project: Aniah is transforming analogue an...   \n",
      "\n",
      "                      job_company                        job_location  \\\n",
      "0      Mon Consultant Indépendant   Greater Paris Metropolitan Region   \n",
      "1                  Virtuos France        Cergy, Île-de-France, France   \n",
      "2      Mon Consultant Indépendant   Greater Paris Metropolitan Region   \n",
      "3                   Next Décision  Lyon, Auvergne-Rhône-Alpes, France   \n",
      "4                       Free-Work               Île-de-France, France   \n",
      "...                           ...                                 ...   \n",
      "12959                Sopra Steria                    92400 Courbevoie   \n",
      "12960                    MOBIAPPS                         Nantes (44)   \n",
      "12961                     Infitex                           59510 Hem   \n",
      "12962                 CN Amirault                   34000 Montpellier   \n",
      "12963                       Aniah                      38000 Grenoble   \n",
      "\n",
      "      job_type    job_date                                             skills  \\\n",
      "0        AUTRE  2024-07-18                                       business sql   \n",
      "1        AUTRE  2024-07-18  mobile software jira game development support ...   \n",
      "2        AUTRE  2024-07-18                          business support security   \n",
      "3        AUTRE  2024-07-18  big data json data quality mode flux crm busin...   \n",
      "4        AUTRE  2024-07-18  azure sql spark databricks server bigquery flu...   \n",
      "...        ...         ...                                                ...   \n",
      "12959    AUTRE  2024-07-30   mobile java support software angular spring boot   \n",
      "12960    AUTRE  2024-07-30  mobile documentation android compose hugo kotl...   \n",
      "12961      CDI  2024-07-30                                    mobile commerce   \n",
      "12962      CDI  2024-07-30                              java appium framework   \n",
      "12963      CDI  2024-07-30             design algorithms python support shell   \n",
      "\n",
      "         source  \n",
      "0      LinkedIn  \n",
      "1      LinkedIn  \n",
      "2      LinkedIn  \n",
      "3      LinkedIn  \n",
      "4      LinkedIn  \n",
      "...         ...  \n",
      "12959    Indeed  \n",
      "12960    Indeed  \n",
      "12961    Indeed  \n",
      "12962    Indeed  \n",
      "12963    Indeed  \n",
      "\n",
      "[12964 rows x 9 columns]\n"
     ]
    }
   ],
   "source": [
    "def extract_source(url):\n",
    "    if 'linkedin.com' in url:\n",
    "        return 'LinkedIn'\n",
    "    elif 'indeed.com' in url:\n",
    "        return 'Indeed'\n",
    "    elif 'glassdoor.com' in url:\n",
    "        return 'Glassdoor'\n",
    "    elif 'welcomejungle.com' in url:\n",
    "        return 'Welcome Jungle'\n",
    "    else:\n",
    "        return 'Unknown'\n",
    "\n",
    "# Appliquer la fonction pour créer la colonne 'source'\n",
    "df['source'] = df['job_link'].apply(extract_source)\n",
    "\n",
    "print(df)\n"
   ]
  },
  {
   "cell_type": "code",
   "execution_count": 25,
   "metadata": {},
   "outputs": [
    {
     "data": {
      "text/plain": [
       "Index(['job_link', 'job_name', 'job_text', 'job_company', 'job_location',\n",
       "       'job_type', 'job_date', 'skills', 'source'],\n",
       "      dtype='object')"
      ]
     },
     "execution_count": 25,
     "metadata": {},
     "output_type": "execute_result"
    }
   ],
   "source": [
    "df.columns"
   ]
  },
  {
   "cell_type": "code",
   "execution_count": 26,
   "metadata": {},
   "outputs": [
    {
     "data": {
      "text/html": [
       "<div>\n",
       "<style scoped>\n",
       "    .dataframe tbody tr th:only-of-type {\n",
       "        vertical-align: middle;\n",
       "    }\n",
       "\n",
       "    .dataframe tbody tr th {\n",
       "        vertical-align: top;\n",
       "    }\n",
       "\n",
       "    .dataframe thead th {\n",
       "        text-align: right;\n",
       "    }\n",
       "</style>\n",
       "<table border=\"1\" class=\"dataframe\">\n",
       "  <thead>\n",
       "    <tr style=\"text-align: right;\">\n",
       "      <th></th>\n",
       "      <th>job_link</th>\n",
       "      <th>job_name</th>\n",
       "      <th>job_text</th>\n",
       "      <th>job_company</th>\n",
       "      <th>job_location</th>\n",
       "      <th>job_type</th>\n",
       "      <th>job_date</th>\n",
       "      <th>skills</th>\n",
       "      <th>source</th>\n",
       "    </tr>\n",
       "  </thead>\n",
       "  <tbody>\n",
       "    <tr>\n",
       "      <th>0</th>\n",
       "      <td>https://fr.linkedin.com/jobs/view/freelance-bu...</td>\n",
       "      <td>FREELANCE - Business Analyst SI Gestion des dé...</td>\n",
       "      <td>Description :Notre cabinet recherche un Busine...</td>\n",
       "      <td>Mon Consultant Indépendant</td>\n",
       "      <td>Greater Paris Metropolitan Region</td>\n",
       "      <td>AUTRE</td>\n",
       "      <td>2024-07-18</td>\n",
       "      <td>business sql</td>\n",
       "      <td>LinkedIn</td>\n",
       "    </tr>\n",
       "    <tr>\n",
       "      <th>1</th>\n",
       "      <td>https://fr.linkedin.com/jobs/view/mid-senior-t...</td>\n",
       "      <td>Mid/Senior Tester QA</td>\n",
       "      <td>ResponsibilitiesBy joining us, you are guarant...</td>\n",
       "      <td>Virtuos France</td>\n",
       "      <td>Cergy, Île-de-France, France</td>\n",
       "      <td>AUTRE</td>\n",
       "      <td>2024-07-18</td>\n",
       "      <td>mobile software jira game development support ...</td>\n",
       "      <td>LinkedIn</td>\n",
       "    </tr>\n",
       "    <tr>\n",
       "      <th>2</th>\n",
       "      <td>https://fr.linkedin.com/jobs/view/freelance-se...</td>\n",
       "      <td>FREELANCE -  Senior Consultant Expert Cyber Se...</td>\n",
       "      <td>Notre cabinet recherche un Senior Consultant E...</td>\n",
       "      <td>Mon Consultant Indépendant</td>\n",
       "      <td>Greater Paris Metropolitan Region</td>\n",
       "      <td>AUTRE</td>\n",
       "      <td>2024-07-18</td>\n",
       "      <td>business support security</td>\n",
       "      <td>LinkedIn</td>\n",
       "    </tr>\n",
       "    <tr>\n",
       "      <th>3</th>\n",
       "      <td>https://fr.linkedin.com/jobs/view/un-talent-de...</td>\n",
       "      <td>UN TALENT DE TALEND EST ATTENDU À LYON ! (H/F)</td>\n",
       "      <td>Notre sociétéNext Decision, c'est quoi ?Un Cab...</td>\n",
       "      <td>Next Décision</td>\n",
       "      <td>Lyon, Auvergne-Rhône-Alpes, France</td>\n",
       "      <td>AUTRE</td>\n",
       "      <td>2024-07-18</td>\n",
       "      <td>big data json data quality mode flux crm busin...</td>\n",
       "      <td>LinkedIn</td>\n",
       "    </tr>\n",
       "    <tr>\n",
       "      <th>4</th>\n",
       "      <td>https://fr.linkedin.com/jobs/view/ing%C3%A9nie...</td>\n",
       "      <td>Ingénieur Data</td>\n",
       "      <td>Description du Poste: Nous sommes à la recherc...</td>\n",
       "      <td>Free-Work</td>\n",
       "      <td>Île-de-France, France</td>\n",
       "      <td>AUTRE</td>\n",
       "      <td>2024-07-18</td>\n",
       "      <td>azure sql spark databricks server bigquery flu...</td>\n",
       "      <td>LinkedIn</td>\n",
       "    </tr>\n",
       "  </tbody>\n",
       "</table>\n",
       "</div>"
      ],
      "text/plain": [
       "                                            job_link  \\\n",
       "0  https://fr.linkedin.com/jobs/view/freelance-bu...   \n",
       "1  https://fr.linkedin.com/jobs/view/mid-senior-t...   \n",
       "2  https://fr.linkedin.com/jobs/view/freelance-se...   \n",
       "3  https://fr.linkedin.com/jobs/view/un-talent-de...   \n",
       "4  https://fr.linkedin.com/jobs/view/ing%C3%A9nie...   \n",
       "\n",
       "                                            job_name  \\\n",
       "0  FREELANCE - Business Analyst SI Gestion des dé...   \n",
       "1                               Mid/Senior Tester QA   \n",
       "2  FREELANCE -  Senior Consultant Expert Cyber Se...   \n",
       "3     UN TALENT DE TALEND EST ATTENDU À LYON ! (H/F)   \n",
       "4                                     Ingénieur Data   \n",
       "\n",
       "                                            job_text  \\\n",
       "0  Description :Notre cabinet recherche un Busine...   \n",
       "1  ResponsibilitiesBy joining us, you are guarant...   \n",
       "2  Notre cabinet recherche un Senior Consultant E...   \n",
       "3  Notre sociétéNext Decision, c'est quoi ?Un Cab...   \n",
       "4  Description du Poste: Nous sommes à la recherc...   \n",
       "\n",
       "                  job_company                        job_location job_type  \\\n",
       "0  Mon Consultant Indépendant   Greater Paris Metropolitan Region    AUTRE   \n",
       "1              Virtuos France        Cergy, Île-de-France, France    AUTRE   \n",
       "2  Mon Consultant Indépendant   Greater Paris Metropolitan Region    AUTRE   \n",
       "3               Next Décision  Lyon, Auvergne-Rhône-Alpes, France    AUTRE   \n",
       "4                   Free-Work               Île-de-France, France    AUTRE   \n",
       "\n",
       "     job_date                                             skills    source  \n",
       "0  2024-07-18                                       business sql  LinkedIn  \n",
       "1  2024-07-18  mobile software jira game development support ...  LinkedIn  \n",
       "2  2024-07-18                          business support security  LinkedIn  \n",
       "3  2024-07-18  big data json data quality mode flux crm busin...  LinkedIn  \n",
       "4  2024-07-18  azure sql spark databricks server bigquery flu...  LinkedIn  "
      ]
     },
     "execution_count": 26,
     "metadata": {},
     "output_type": "execute_result"
    }
   ],
   "source": [
    "df.head()"
   ]
  },
  {
   "cell_type": "code",
   "execution_count": 27,
   "metadata": {},
   "outputs": [
    {
     "data": {
      "text/html": [
       "<div>\n",
       "<style scoped>\n",
       "    .dataframe tbody tr th:only-of-type {\n",
       "        vertical-align: middle;\n",
       "    }\n",
       "\n",
       "    .dataframe tbody tr th {\n",
       "        vertical-align: top;\n",
       "    }\n",
       "\n",
       "    .dataframe thead th {\n",
       "        text-align: right;\n",
       "    }\n",
       "</style>\n",
       "<table border=\"1\" class=\"dataframe\">\n",
       "  <thead>\n",
       "    <tr style=\"text-align: right;\">\n",
       "      <th></th>\n",
       "      <th>job_link</th>\n",
       "      <th>job_name</th>\n",
       "      <th>job_text</th>\n",
       "      <th>job_company</th>\n",
       "      <th>job_location</th>\n",
       "      <th>job_type</th>\n",
       "      <th>job_date</th>\n",
       "      <th>skills</th>\n",
       "      <th>source</th>\n",
       "    </tr>\n",
       "  </thead>\n",
       "  <tbody>\n",
       "    <tr>\n",
       "      <th>12959</th>\n",
       "      <td>https://fr.indeed.com//rc/clk?jk=6822ee3ffd4ba...</td>\n",
       "      <td>Développeur/se Expert – Java Fullstack - Energ...</td>\n",
       "      <td>Description de l'entreprise Sopra Steria, acte...</td>\n",
       "      <td>Sopra Steria</td>\n",
       "      <td>92400 Courbevoie</td>\n",
       "      <td>AUTRE</td>\n",
       "      <td>2024-07-30</td>\n",
       "      <td>mobile java support software angular spring boot</td>\n",
       "      <td>Indeed</td>\n",
       "    </tr>\n",
       "    <tr>\n",
       "      <th>12960</th>\n",
       "      <td>https://fr.indeed.com//rc/clk?jk=39acd9732548d...</td>\n",
       "      <td>Développeur Android F/H</td>\n",
       "      <td>En 10 ans, notre équipe Digital Factory compos...</td>\n",
       "      <td>MOBIAPPS</td>\n",
       "      <td>Nantes (44)</td>\n",
       "      <td>AUTRE</td>\n",
       "      <td>2024-07-30</td>\n",
       "      <td>mobile documentation android compose hugo kotl...</td>\n",
       "      <td>Indeed</td>\n",
       "    </tr>\n",
       "    <tr>\n",
       "      <th>12961</th>\n",
       "      <td>https://fr.indeed.com//rc/clk?jk=68ecd10e4cb47...</td>\n",
       "      <td>Analyste - développeur RPG IBMi (AS/400)</td>\n",
       "      <td>Rejoignez Infitex en tant qu’Analyste Développ...</td>\n",
       "      <td>Infitex</td>\n",
       "      <td>59510 Hem</td>\n",
       "      <td>CDI</td>\n",
       "      <td>2024-07-30</td>\n",
       "      <td>mobile commerce</td>\n",
       "      <td>Indeed</td>\n",
       "    </tr>\n",
       "    <tr>\n",
       "      <th>12962</th>\n",
       "      <td>https://fr.indeed.com//rc/clk?jk=ec791776484f6...</td>\n",
       "      <td>Développeur Java H/F (CNA-0139)</td>\n",
       "      <td>Innovation, belle ambiance et projets stimulan...</td>\n",
       "      <td>CN Amirault</td>\n",
       "      <td>34000 Montpellier</td>\n",
       "      <td>CDI</td>\n",
       "      <td>2024-07-30</td>\n",
       "      <td>java appium framework</td>\n",
       "      <td>Indeed</td>\n",
       "    </tr>\n",
       "    <tr>\n",
       "      <th>12963</th>\n",
       "      <td>https://fr.indeed.com//rc/clk?jk=f653e589bbbef...</td>\n",
       "      <td>Analog / Mixed-Signal Senior Application Engin...</td>\n",
       "      <td>Our project: Aniah is transforming analogue an...</td>\n",
       "      <td>Aniah</td>\n",
       "      <td>38000 Grenoble</td>\n",
       "      <td>CDI</td>\n",
       "      <td>2024-07-30</td>\n",
       "      <td>design algorithms python support shell</td>\n",
       "      <td>Indeed</td>\n",
       "    </tr>\n",
       "  </tbody>\n",
       "</table>\n",
       "</div>"
      ],
      "text/plain": [
       "                                                job_link  \\\n",
       "12959  https://fr.indeed.com//rc/clk?jk=6822ee3ffd4ba...   \n",
       "12960  https://fr.indeed.com//rc/clk?jk=39acd9732548d...   \n",
       "12961  https://fr.indeed.com//rc/clk?jk=68ecd10e4cb47...   \n",
       "12962  https://fr.indeed.com//rc/clk?jk=ec791776484f6...   \n",
       "12963  https://fr.indeed.com//rc/clk?jk=f653e589bbbef...   \n",
       "\n",
       "                                                job_name  \\\n",
       "12959  Développeur/se Expert – Java Fullstack - Energ...   \n",
       "12960                            Développeur Android F/H   \n",
       "12961           Analyste - développeur RPG IBMi (AS/400)   \n",
       "12962                    Développeur Java H/F (CNA-0139)   \n",
       "12963  Analog / Mixed-Signal Senior Application Engin...   \n",
       "\n",
       "                                                job_text   job_company  \\\n",
       "12959  Description de l'entreprise Sopra Steria, acte...  Sopra Steria   \n",
       "12960  En 10 ans, notre équipe Digital Factory compos...      MOBIAPPS   \n",
       "12961  Rejoignez Infitex en tant qu’Analyste Développ...       Infitex   \n",
       "12962  Innovation, belle ambiance et projets stimulan...   CN Amirault   \n",
       "12963  Our project: Aniah is transforming analogue an...         Aniah   \n",
       "\n",
       "            job_location job_type    job_date  \\\n",
       "12959   92400 Courbevoie    AUTRE  2024-07-30   \n",
       "12960        Nantes (44)    AUTRE  2024-07-30   \n",
       "12961          59510 Hem      CDI  2024-07-30   \n",
       "12962  34000 Montpellier      CDI  2024-07-30   \n",
       "12963     38000 Grenoble      CDI  2024-07-30   \n",
       "\n",
       "                                                  skills  source  \n",
       "12959   mobile java support software angular spring boot  Indeed  \n",
       "12960  mobile documentation android compose hugo kotl...  Indeed  \n",
       "12961                                    mobile commerce  Indeed  \n",
       "12962                              java appium framework  Indeed  \n",
       "12963             design algorithms python support shell  Indeed  "
      ]
     },
     "execution_count": 27,
     "metadata": {},
     "output_type": "execute_result"
    }
   ],
   "source": [
    "df.tail()"
   ]
  },
  {
   "cell_type": "code",
   "execution_count": 41,
   "metadata": {},
   "outputs": [
    {
     "data": {
      "text/plain": [
       "'Indeed'"
      ]
     },
     "execution_count": 41,
     "metadata": {},
     "output_type": "execute_result"
    }
   ],
   "source": [
    "df['source'][12959]\n"
   ]
  },
  {
   "cell_type": "code",
   "execution_count": 42,
   "metadata": {},
   "outputs": [
    {
     "data": {
      "text/plain": [
       "'https://fr.indeed.com//rc/clk?jk=6822ee3ffd4baa51&bb=xYr5Cy0fdOSoX0eWZFis6zbK3AKQY3PV32quhN5tT1BHyFPxzj_5fdJvmuYc6RJBasdo7hLI_gST5dq5rYevd_vF6Eldsl76A3IbLVpWdU5KBxLDzBpyTDD4VcjV-cq9&xkcb=SoCj67M39C-sVYwkgJ0MbzkdCdPP&fccid=3ba6d20cd884270b&vjs=3'"
      ]
     },
     "execution_count": 42,
     "metadata": {},
     "output_type": "execute_result"
    }
   ],
   "source": [
    "df['job_link'][12959]"
   ]
  },
  {
   "cell_type": "code",
   "execution_count": null,
   "metadata": {},
   "outputs": [],
   "source": []
  }
 ],
 "metadata": {
  "kernelspec": {
   "display_name": "airflow_env",
   "language": "python",
   "name": "python3"
  },
  "language_info": {
   "codemirror_mode": {
    "name": "ipython",
    "version": 3
   },
   "file_extension": ".py",
   "mimetype": "text/x-python",
   "name": "python",
   "nbconvert_exporter": "python",
   "pygments_lexer": "ipython3",
   "version": "3.10.12"
  }
 },
 "nbformat": 4,
 "nbformat_minor": 2
}
